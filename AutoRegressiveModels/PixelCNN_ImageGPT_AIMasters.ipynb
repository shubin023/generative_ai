{
  "cells": [
    {
      "cell_type": "markdown",
      "metadata": {
        "id": "5rUp2xWkdGFu"
      },
      "source": [
        "# Homework 1: Autoregressive models"
      ]
    },
    {
      "cell_type": "code",
      "execution_count": null,
      "metadata": {
        "id": "b6wlhL2l_SKt"
      },
      "outputs": [],
      "source": []
    },
    {
      "cell_type": "markdown",
      "metadata": {
        "id": "B0w70vkwZ-tw"
      },
      "source": [
        "## Task 1: Theory (4pt)"
      ]
    },
    {
      "cell_type": "markdown",
      "metadata": {
        "id": "QLGp4c5UPByO"
      },
      "source": [
        "### Problem 1: Sampling from KDE (1pt)\n",
        "\n",
        "In our course we will discuss mostly parametric generative models. It means that our model $p(\\mathbf{x} | \\boldsymbol{\\theta})$ defined by the parameters $\\boldsymbol{\\theta}$.\n",
        "\n",
        "But there are also the set of non-parametric models. One of the examples of such models is kernel density models.\n",
        "\n",
        "Let define \\textbf{Kernel Density Estimator} for the density $\\pi(\\mathbf{x})$ in the following form:\n",
        "$$\n",
        "    \\hat{p}_h(x) = \\frac{1}{n h^d} \\sum\\limits_{i = 1}^{n} K\\left(\\frac{\\mathbf{x} - \\mathbf{x}_i}{h}\\right),\n",
        "$$\n",
        "where $\\mathbf{x}_1, \\dots, \\mathbf{x}_n \\sim \\pi(\\mathbf{x})$, $\\mathbf{x}_i \\in \\mathbb{R}^m$.\n",
        "Here function $K(\\mathbf{x}): \\mathbb{R}^m \\rightarrow \\mathbb{R}$ is function that satisfies the following properties:\n",
        "1) it is non-negative, $K(\\mathbf{x}) \\geq 0$;\n",
        "2) it is symmetric, $K(\\mathbf{x}) = K(-\\mathbf{x})$;\n",
        "3) it is normalized, $ \\int K(\\mathbf{x}) d \\mathbf{x} = 1$.\n",
        "\n",
        "Consider the following sampling scheme:\n",
        ">\n",
        ">1. Choose random number $k$ uniformly from the collection of numbers $\\{1, 2, \\dots, n\\}$.\n",
        ">\n",
        ">2. Sample the random variable $\\tilde{\\mathbf{x}}$ from the kernel $\\frac{1}{h^d} K\\left(\\frac{\\mathbf{x} - \\mathbf{x}_k}{h}\\right)$.\n",
        ">\n",
        "\n",
        "Prove, that $\\tilde{X}$ is distributed according to $\\hat{p}_h(\\mathbf{x})$, i.e. the scheme above is the correct sampling scheme for $\\hat{p}_h(\\mathbf{x})$."
      ]
    },
    {
      "cell_type": "markdown",
      "metadata": {
        "id": "P0HFuytJPQ7o"
      },
      "source": [
        "```\n",
        "your solution for problem 1\n",
        "```"
      ]
    },
    {
      "cell_type": "markdown",
      "metadata": {
        "id": "ivV4DY1SPEIL"
      },
      "source": [
        "### Problem 2: $\\alpha$-divergence (1pt)\n",
        "\n",
        "In the course, we will face lots of different divergences (not only $KL$). So let's get acquainted with the class of $\\alpha$-divergences:\n",
        "$$\n",
        "    D_{\\alpha}(p || q) = \\frac{4}{1 - \\alpha^2} \\left( 1 - \\int p(x)^{\\frac{1 + \\alpha}{2}}q(x)^{\\frac{1 - \\alpha}{2}}dx\\right).\n",
        "$$\n",
        "For each $\\alpha \\in [-\\infty; +\\infty]$ the function $D_{\\alpha} (p || q)$ is a measure of the similarity between two distributions. $D_{\\alpha} (p || q)$ has different properties for different $\\alpha$.\n",
        "\n",
        "Prove that the divergence $D_{\\alpha}(p || q) \\rightarrow KL(p || q)$ for $\\alpha \\rightarrow 1$ , and the divergence $D_{\\alpha}(p || q) \\rightarrow KL(q || p)$ for $\\alpha \\rightarrow -1$.\n",
        "\n",
        "**Hint:** use the fact that $t^\\varepsilon = \\exp(\\varepsilon \\cdot \\ln t) = 1 + \\varepsilon \\cdot \\ln t + O(\\varepsilon^2)$."
      ]
    },
    {
      "cell_type": "markdown",
      "metadata": {
        "id": "x1C_RPljZ-t3"
      },
      "source": [
        "```\n",
        "your solution for problem 3\n",
        "```"
      ]
    },
    {
      "cell_type": "markdown",
      "metadata": {
        "id": "c7wm4AOrZ-t4"
      },
      "source": [
        "### Problem 3: Curse of dimensionality (2pt)\n",
        "\n",
        "The main problem of generative modelling is the curse of dimensionality. Let try to get some intuition about it.\n",
        "\n",
        "Let consider a sphere of radius $r = 1$ in $\\mathbb{R}^m$. Let say that if has the volume $V_m(r)$. Our goal is to find the fraction of the volume of the sphere that lies between radius $r = 1 - \\epsilon$ and $r = 1$. Our geometric intuition is that this fraction is small. But the magic happens with $m$ goes to infinity.\n",
        "\n",
        "1. Find the expression of the volume of a shpere of radius $r$ in $m$ dimensions.\n",
        "\n",
        "2. Find the required fraction $\\Delta = \\frac{V_m(1) - V_m(1 - \\epsilon)}{V_m(1)}$.\n",
        "\n",
        "3. Prove that, for large $m$, the fraction tends to 1 even for small values of $\\epsilon$."
      ]
    },
    {
      "cell_type": "markdown",
      "metadata": {
        "id": "sfyWlBzOZ-t4"
      },
      "source": [
        "```\n",
        "your solution for problem 3\n",
        "```"
      ]
    },
    {
      "cell_type": "markdown",
      "metadata": {
        "id": "d2LH7vKPPVUt"
      },
      "source": [
        "Now it time to move on to practical part of homework.\n",
        "\n",
        "In our course we will use a small util [package](https://github.com/r-isachenko/2022-DGM-Ozon-course/blob/main/homeworks/dgm_utils/utils.py) with some usefull functions for loading and visualizing the images and training curves. In each homework there will be a cell with installing this package. Please read carefully the sources of the functions from this package. It could help you to solve the tasks."
      ]
    },
    {
      "cell_type": "code",
      "execution_count": null,
      "metadata": {
        "colab": {
          "base_uri": "https://localhost:8080/"
        },
        "id": "7wXq7VJ_SRAl",
        "outputId": "faf2912c-2379-4242-d3f9-8320bad9cdf2"
      },
      "outputs": [
        {
          "name": "stdout",
          "output_type": "stream",
          "text": [
            "Cloning into '2024-DGM-AIMasters-course'...\n",
            "remote: Enumerating objects: 1232, done.\u001b[K\n",
            "remote: Counting objects: 100% (405/405), done.\u001b[K\n",
            "remote: Compressing objects: 100% (271/271), done.\u001b[K\n",
            "remote: Total 1232 (delta 161), reused 371 (delta 133), pack-reused 827 (from 1)\u001b[K\n",
            "Receiving objects: 100% (1232/1232), 477.39 MiB | 16.13 MiB/s, done.\n",
            "Resolving deltas: 100% (480/480), done.\n",
            "Updating files: 100% (442/442), done.\n",
            "Processing ./2024-DGM-AIMasters-course/homeworks\n",
            "  Preparing metadata (setup.py) ... \u001b[?25l\u001b[?25hdone\n",
            "Requirement already satisfied: numpy in /usr/local/lib/python3.11/dist-packages (from dgm_utils==0.1.0) (2.0.2)\n",
            "Requirement already satisfied: matplotlib in /usr/local/lib/python3.11/dist-packages (from dgm_utils==0.1.0) (3.10.0)\n",
            "Requirement already satisfied: pillow in /usr/local/lib/python3.11/dist-packages (from dgm_utils==0.1.0) (11.3.0)\n",
            "Requirement already satisfied: tqdm in /usr/local/lib/python3.11/dist-packages (from dgm_utils==0.1.0) (4.67.1)\n",
            "Requirement already satisfied: torch in /usr/local/lib/python3.11/dist-packages (from dgm_utils==0.1.0) (2.6.0+cu124)\n",
            "Requirement already satisfied: torchvision in /usr/local/lib/python3.11/dist-packages (from dgm_utils==0.1.0) (0.21.0+cu124)\n",
            "Requirement already satisfied: torchaudio in /usr/local/lib/python3.11/dist-packages (from dgm_utils==0.1.0) (2.6.0+cu124)\n",
            "Requirement already satisfied: gdown in /usr/local/lib/python3.11/dist-packages (from dgm_utils==0.1.0) (5.2.0)\n",
            "Requirement already satisfied: scikit-learn in /usr/local/lib/python3.11/dist-packages (from dgm_utils==0.1.0) (1.6.1)\n",
            "Requirement already satisfied: beautifulsoup4 in /usr/local/lib/python3.11/dist-packages (from gdown->dgm_utils==0.1.0) (4.13.4)\n",
            "Requirement already satisfied: filelock in /usr/local/lib/python3.11/dist-packages (from gdown->dgm_utils==0.1.0) (3.18.0)\n",
            "Requirement already satisfied: requests[socks] in /usr/local/lib/python3.11/dist-packages (from gdown->dgm_utils==0.1.0) (2.32.3)\n",
            "Requirement already satisfied: contourpy>=1.0.1 in /usr/local/lib/python3.11/dist-packages (from matplotlib->dgm_utils==0.1.0) (1.3.3)\n",
            "Requirement already satisfied: cycler>=0.10 in /usr/local/lib/python3.11/dist-packages (from matplotlib->dgm_utils==0.1.0) (0.12.1)\n",
            "Requirement already satisfied: fonttools>=4.22.0 in /usr/local/lib/python3.11/dist-packages (from matplotlib->dgm_utils==0.1.0) (4.59.0)\n",
            "Requirement already satisfied: kiwisolver>=1.3.1 in /usr/local/lib/python3.11/dist-packages (from matplotlib->dgm_utils==0.1.0) (1.4.8)\n",
            "Requirement already satisfied: packaging>=20.0 in /usr/local/lib/python3.11/dist-packages (from matplotlib->dgm_utils==0.1.0) (25.0)\n",
            "Requirement already satisfied: pyparsing>=2.3.1 in /usr/local/lib/python3.11/dist-packages (from matplotlib->dgm_utils==0.1.0) (3.2.3)\n",
            "Requirement already satisfied: python-dateutil>=2.7 in /usr/local/lib/python3.11/dist-packages (from matplotlib->dgm_utils==0.1.0) (2.9.0.post0)\n",
            "Requirement already satisfied: scipy>=1.6.0 in /usr/local/lib/python3.11/dist-packages (from scikit-learn->dgm_utils==0.1.0) (1.16.1)\n",
            "Requirement already satisfied: joblib>=1.2.0 in /usr/local/lib/python3.11/dist-packages (from scikit-learn->dgm_utils==0.1.0) (1.5.1)\n",
            "Requirement already satisfied: threadpoolctl>=3.1.0 in /usr/local/lib/python3.11/dist-packages (from scikit-learn->dgm_utils==0.1.0) (3.6.0)\n",
            "Requirement already satisfied: typing-extensions>=4.10.0 in /usr/local/lib/python3.11/dist-packages (from torch->dgm_utils==0.1.0) (4.14.1)\n",
            "Requirement already satisfied: networkx in /usr/local/lib/python3.11/dist-packages (from torch->dgm_utils==0.1.0) (3.5)\n",
            "Requirement already satisfied: jinja2 in /usr/local/lib/python3.11/dist-packages (from torch->dgm_utils==0.1.0) (3.1.6)\n",
            "Requirement already satisfied: fsspec in /usr/local/lib/python3.11/dist-packages (from torch->dgm_utils==0.1.0) (2025.3.0)\n",
            "Collecting nvidia-cuda-nvrtc-cu12==12.4.127 (from torch->dgm_utils==0.1.0)\n",
            "  Downloading nvidia_cuda_nvrtc_cu12-12.4.127-py3-none-manylinux2014_x86_64.whl.metadata (1.5 kB)\n",
            "Collecting nvidia-cuda-runtime-cu12==12.4.127 (from torch->dgm_utils==0.1.0)\n",
            "  Downloading nvidia_cuda_runtime_cu12-12.4.127-py3-none-manylinux2014_x86_64.whl.metadata (1.5 kB)\n",
            "Collecting nvidia-cuda-cupti-cu12==12.4.127 (from torch->dgm_utils==0.1.0)\n",
            "  Downloading nvidia_cuda_cupti_cu12-12.4.127-py3-none-manylinux2014_x86_64.whl.metadata (1.6 kB)\n",
            "Collecting nvidia-cudnn-cu12==9.1.0.70 (from torch->dgm_utils==0.1.0)\n",
            "  Downloading nvidia_cudnn_cu12-9.1.0.70-py3-none-manylinux2014_x86_64.whl.metadata (1.6 kB)\n",
            "Collecting nvidia-cublas-cu12==12.4.5.8 (from torch->dgm_utils==0.1.0)\n",
            "  Downloading nvidia_cublas_cu12-12.4.5.8-py3-none-manylinux2014_x86_64.whl.metadata (1.5 kB)\n",
            "Collecting nvidia-cufft-cu12==11.2.1.3 (from torch->dgm_utils==0.1.0)\n",
            "  Downloading nvidia_cufft_cu12-11.2.1.3-py3-none-manylinux2014_x86_64.whl.metadata (1.5 kB)\n",
            "Collecting nvidia-curand-cu12==10.3.5.147 (from torch->dgm_utils==0.1.0)\n",
            "  Downloading nvidia_curand_cu12-10.3.5.147-py3-none-manylinux2014_x86_64.whl.metadata (1.5 kB)\n",
            "Collecting nvidia-cusolver-cu12==11.6.1.9 (from torch->dgm_utils==0.1.0)\n",
            "  Downloading nvidia_cusolver_cu12-11.6.1.9-py3-none-manylinux2014_x86_64.whl.metadata (1.6 kB)\n",
            "Collecting nvidia-cusparse-cu12==12.3.1.170 (from torch->dgm_utils==0.1.0)\n",
            "  Downloading nvidia_cusparse_cu12-12.3.1.170-py3-none-manylinux2014_x86_64.whl.metadata (1.6 kB)\n",
            "Requirement already satisfied: nvidia-cusparselt-cu12==0.6.2 in /usr/local/lib/python3.11/dist-packages (from torch->dgm_utils==0.1.0) (0.6.2)\n",
            "Collecting nvidia-nccl-cu12==2.21.5 (from torch->dgm_utils==0.1.0)\n",
            "  Downloading nvidia_nccl_cu12-2.21.5-py3-none-manylinux2014_x86_64.whl.metadata (1.8 kB)\n",
            "Requirement already satisfied: nvidia-nvtx-cu12==12.4.127 in /usr/local/lib/python3.11/dist-packages (from torch->dgm_utils==0.1.0) (12.4.127)\n",
            "Collecting nvidia-nvjitlink-cu12==12.4.127 (from torch->dgm_utils==0.1.0)\n",
            "  Downloading nvidia_nvjitlink_cu12-12.4.127-py3-none-manylinux2014_x86_64.whl.metadata (1.5 kB)\n",
            "Requirement already satisfied: triton==3.2.0 in /usr/local/lib/python3.11/dist-packages (from torch->dgm_utils==0.1.0) (3.2.0)\n",
            "Requirement already satisfied: sympy==1.13.1 in /usr/local/lib/python3.11/dist-packages (from torch->dgm_utils==0.1.0) (1.13.1)\n",
            "Requirement already satisfied: mpmath<1.4,>=1.1.0 in /usr/local/lib/python3.11/dist-packages (from sympy==1.13.1->torch->dgm_utils==0.1.0) (1.3.0)\n",
            "Requirement already satisfied: six>=1.5 in /usr/local/lib/python3.11/dist-packages (from python-dateutil>=2.7->matplotlib->dgm_utils==0.1.0) (1.17.0)\n",
            "Requirement already satisfied: soupsieve>1.2 in /usr/local/lib/python3.11/dist-packages (from beautifulsoup4->gdown->dgm_utils==0.1.0) (2.7)\n",
            "Requirement already satisfied: MarkupSafe>=2.0 in /usr/local/lib/python3.11/dist-packages (from jinja2->torch->dgm_utils==0.1.0) (3.0.2)\n",
            "Requirement already satisfied: charset-normalizer<4,>=2 in /usr/local/lib/python3.11/dist-packages (from requests[socks]->gdown->dgm_utils==0.1.0) (3.4.2)\n",
            "Requirement already satisfied: idna<4,>=2.5 in /usr/local/lib/python3.11/dist-packages (from requests[socks]->gdown->dgm_utils==0.1.0) (3.10)\n",
            "Requirement already satisfied: urllib3<3,>=1.21.1 in /usr/local/lib/python3.11/dist-packages (from requests[socks]->gdown->dgm_utils==0.1.0) (2.5.0)\n",
            "Requirement already satisfied: certifi>=2017.4.17 in /usr/local/lib/python3.11/dist-packages (from requests[socks]->gdown->dgm_utils==0.1.0) (2025.8.3)\n",
            "Requirement already satisfied: PySocks!=1.5.7,>=1.5.6 in /usr/local/lib/python3.11/dist-packages (from requests[socks]->gdown->dgm_utils==0.1.0) (1.7.1)\n",
            "Downloading nvidia_cublas_cu12-12.4.5.8-py3-none-manylinux2014_x86_64.whl (363.4 MB)\n",
            "\u001b[2K   \u001b[90m━━━━━━━━━━━━━━━━━━━━━━━━━━━━━━━━━━━━━━━━\u001b[0m \u001b[32m363.4/363.4 MB\u001b[0m \u001b[31m4.5 MB/s\u001b[0m eta \u001b[36m0:00:00\u001b[0m\n",
            "\u001b[?25hDownloading nvidia_cuda_cupti_cu12-12.4.127-py3-none-manylinux2014_x86_64.whl (13.8 MB)\n",
            "\u001b[2K   \u001b[90m━━━━━━━━━━━━━━━━━━━━━━━━━━━━━━━━━━━━━━━━\u001b[0m \u001b[32m13.8/13.8 MB\u001b[0m \u001b[31m117.1 MB/s\u001b[0m eta \u001b[36m0:00:00\u001b[0m\n",
            "\u001b[?25hDownloading nvidia_cuda_nvrtc_cu12-12.4.127-py3-none-manylinux2014_x86_64.whl (24.6 MB)\n",
            "\u001b[2K   \u001b[90m━━━━━━━━━━━━━━━━━━━━━━━━━━━━━━━━━━━━━━━━\u001b[0m \u001b[32m24.6/24.6 MB\u001b[0m \u001b[31m30.7 MB/s\u001b[0m eta \u001b[36m0:00:00\u001b[0m\n",
            "\u001b[?25hDownloading nvidia_cuda_runtime_cu12-12.4.127-py3-none-manylinux2014_x86_64.whl (883 kB)\n",
            "\u001b[2K   \u001b[90m━━━━━━━━━━━━━━━━━━━━━━━━━━━━━━━━━━━━━━━━\u001b[0m \u001b[32m883.7/883.7 kB\u001b[0m \u001b[31m59.0 MB/s\u001b[0m eta \u001b[36m0:00:00\u001b[0m\n",
            "\u001b[?25hDownloading nvidia_cudnn_cu12-9.1.0.70-py3-none-manylinux2014_x86_64.whl (664.8 MB)\n",
            "\u001b[2K   \u001b[90m━━━━━━━━━━━━━━━━━━━━━━━━━━━━━━━━━━━━━━━━\u001b[0m \u001b[32m664.8/664.8 MB\u001b[0m \u001b[31m2.4 MB/s\u001b[0m eta \u001b[36m0:00:00\u001b[0m\n",
            "\u001b[?25hDownloading nvidia_cufft_cu12-11.2.1.3-py3-none-manylinux2014_x86_64.whl (211.5 MB)\n",
            "\u001b[2K   \u001b[90m━━━━━━━━━━━━━━━━━━━━━━━━━━━━━━━━━━━━━━━━\u001b[0m \u001b[32m211.5/211.5 MB\u001b[0m \u001b[31m5.6 MB/s\u001b[0m eta \u001b[36m0:00:00\u001b[0m\n",
            "\u001b[?25hDownloading nvidia_curand_cu12-10.3.5.147-py3-none-manylinux2014_x86_64.whl (56.3 MB)\n",
            "\u001b[2K   \u001b[90m━━━━━━━━━━━━━━━━━━━━━━━━━━━━━━━━━━━━━━━━\u001b[0m \u001b[32m56.3/56.3 MB\u001b[0m \u001b[31m12.9 MB/s\u001b[0m eta \u001b[36m0:00:00\u001b[0m\n",
            "\u001b[?25hDownloading nvidia_cusolver_cu12-11.6.1.9-py3-none-manylinux2014_x86_64.whl (127.9 MB)\n",
            "\u001b[2K   \u001b[90m━━━━━━━━━━━━━━━━━━━━━━━━━━━━━━━━━━━━━━━━\u001b[0m \u001b[32m127.9/127.9 MB\u001b[0m \u001b[31m7.2 MB/s\u001b[0m eta \u001b[36m0:00:00\u001b[0m\n",
            "\u001b[?25hDownloading nvidia_cusparse_cu12-12.3.1.170-py3-none-manylinux2014_x86_64.whl (207.5 MB)\n",
            "\u001b[2K   \u001b[90m━━━━━━━━━━━━━━━━━━━━━━━━━━━━━━━━━━━━━━━━\u001b[0m \u001b[32m207.5/207.5 MB\u001b[0m \u001b[31m6.2 MB/s\u001b[0m eta \u001b[36m0:00:00\u001b[0m\n",
            "\u001b[?25hDownloading nvidia_nccl_cu12-2.21.5-py3-none-manylinux2014_x86_64.whl (188.7 MB)\n",
            "\u001b[2K   \u001b[90m━━━━━━━━━━━━━━━━━━━━━━━━━━━━━━━━━━━━━━━━\u001b[0m \u001b[32m188.7/188.7 MB\u001b[0m \u001b[31m5.8 MB/s\u001b[0m eta \u001b[36m0:00:00\u001b[0m\n",
            "\u001b[?25hDownloading nvidia_nvjitlink_cu12-12.4.127-py3-none-manylinux2014_x86_64.whl (21.1 MB)\n",
            "\u001b[2K   \u001b[90m━━━━━━━━━━━━━━━━━━━━━━━━━━━━━━━━━━━━━━━━\u001b[0m \u001b[32m21.1/21.1 MB\u001b[0m \u001b[31m103.1 MB/s\u001b[0m eta \u001b[36m0:00:00\u001b[0m\n",
            "\u001b[?25hBuilding wheels for collected packages: dgm_utils\n",
            "  Building wheel for dgm_utils (setup.py) ... \u001b[?25l\u001b[?25hdone\n",
            "  Created wheel for dgm_utils: filename=dgm_utils-0.1.0-py3-none-any.whl size=4124 sha256=f10f8e5a6df11852fd71422b6597bc4572590aee1a1cd62f5404fdb4d1ec7bfd\n",
            "  Stored in directory: /tmp/pip-ephem-wheel-cache-iio8p88t/wheels/8f/05/02/50b4a0ab9af971acb6200f77cd470f2971061ca38d42027def\n",
            "Successfully built dgm_utils\n",
            "Installing collected packages: nvidia-nvjitlink-cu12, nvidia-nccl-cu12, nvidia-curand-cu12, nvidia-cufft-cu12, nvidia-cuda-runtime-cu12, nvidia-cuda-nvrtc-cu12, nvidia-cuda-cupti-cu12, nvidia-cublas-cu12, nvidia-cusparse-cu12, nvidia-cudnn-cu12, nvidia-cusolver-cu12, dgm_utils\n",
            "  Attempting uninstall: nvidia-nvjitlink-cu12\n",
            "    Found existing installation: nvidia-nvjitlink-cu12 12.5.82\n",
            "    Uninstalling nvidia-nvjitlink-cu12-12.5.82:\n",
            "      Successfully uninstalled nvidia-nvjitlink-cu12-12.5.82\n",
            "  Attempting uninstall: nvidia-nccl-cu12\n",
            "    Found existing installation: nvidia-nccl-cu12 2.23.4\n",
            "    Uninstalling nvidia-nccl-cu12-2.23.4:\n",
            "      Successfully uninstalled nvidia-nccl-cu12-2.23.4\n",
            "  Attempting uninstall: nvidia-curand-cu12\n",
            "    Found existing installation: nvidia-curand-cu12 10.3.6.82\n",
            "    Uninstalling nvidia-curand-cu12-10.3.6.82:\n",
            "      Successfully uninstalled nvidia-curand-cu12-10.3.6.82\n",
            "  Attempting uninstall: nvidia-cufft-cu12\n",
            "    Found existing installation: nvidia-cufft-cu12 11.2.3.61\n",
            "    Uninstalling nvidia-cufft-cu12-11.2.3.61:\n",
            "      Successfully uninstalled nvidia-cufft-cu12-11.2.3.61\n",
            "  Attempting uninstall: nvidia-cuda-runtime-cu12\n",
            "    Found existing installation: nvidia-cuda-runtime-cu12 12.5.82\n",
            "    Uninstalling nvidia-cuda-runtime-cu12-12.5.82:\n",
            "      Successfully uninstalled nvidia-cuda-runtime-cu12-12.5.82\n",
            "  Attempting uninstall: nvidia-cuda-nvrtc-cu12\n",
            "    Found existing installation: nvidia-cuda-nvrtc-cu12 12.5.82\n",
            "    Uninstalling nvidia-cuda-nvrtc-cu12-12.5.82:\n",
            "      Successfully uninstalled nvidia-cuda-nvrtc-cu12-12.5.82\n",
            "  Attempting uninstall: nvidia-cuda-cupti-cu12\n",
            "    Found existing installation: nvidia-cuda-cupti-cu12 12.5.82\n",
            "    Uninstalling nvidia-cuda-cupti-cu12-12.5.82:\n",
            "      Successfully uninstalled nvidia-cuda-cupti-cu12-12.5.82\n",
            "  Attempting uninstall: nvidia-cublas-cu12\n",
            "    Found existing installation: nvidia-cublas-cu12 12.5.3.2\n",
            "    Uninstalling nvidia-cublas-cu12-12.5.3.2:\n",
            "      Successfully uninstalled nvidia-cublas-cu12-12.5.3.2\n",
            "  Attempting uninstall: nvidia-cusparse-cu12\n",
            "    Found existing installation: nvidia-cusparse-cu12 12.5.1.3\n",
            "    Uninstalling nvidia-cusparse-cu12-12.5.1.3:\n",
            "      Successfully uninstalled nvidia-cusparse-cu12-12.5.1.3\n",
            "  Attempting uninstall: nvidia-cudnn-cu12\n",
            "    Found existing installation: nvidia-cudnn-cu12 9.3.0.75\n",
            "    Uninstalling nvidia-cudnn-cu12-9.3.0.75:\n",
            "      Successfully uninstalled nvidia-cudnn-cu12-9.3.0.75\n",
            "  Attempting uninstall: nvidia-cusolver-cu12\n",
            "    Found existing installation: nvidia-cusolver-cu12 11.6.3.83\n",
            "    Uninstalling nvidia-cusolver-cu12-11.6.3.83:\n",
            "      Successfully uninstalled nvidia-cusolver-cu12-11.6.3.83\n",
            "Successfully installed dgm_utils-0.1.0 nvidia-cublas-cu12-12.4.5.8 nvidia-cuda-cupti-cu12-12.4.127 nvidia-cuda-nvrtc-cu12-12.4.127 nvidia-cuda-runtime-cu12-12.4.127 nvidia-cudnn-cu12-9.1.0.70 nvidia-cufft-cu12-11.2.1.3 nvidia-curand-cu12-10.3.5.147 nvidia-cusolver-cu12-11.6.1.9 nvidia-cusparse-cu12-12.3.1.170 nvidia-nccl-cu12-2.21.5 nvidia-nvjitlink-cu12-12.4.127\n"
          ]
        }
      ],
      "source": [
        "REPO_NAME = \"2024-DGM-AIMasters-course\"\n",
        "!if [ -d {REPO_NAME} ]; then rm -Rf {REPO_NAME}; fi\n",
        "!git clone https://github.com/r-isachenko/{REPO_NAME}.git\n",
        "!cd {REPO_NAME}\n",
        "!pip install ./{REPO_NAME}/homeworks/\n",
        "!rm -Rf {REPO_NAME}"
      ]
    },
    {
      "cell_type": "code",
      "execution_count": null,
      "metadata": {
        "id": "m-44Dxk6SRAp"
      },
      "outputs": [],
      "source": [
        "from dgm_utils import train_model, plot_training_curves\n",
        "from dgm_utils import show_samples, visualize_images, load_dataset"
      ]
    },
    {
      "cell_type": "code",
      "execution_count": null,
      "metadata": {
        "id": "zk6rWePvdGFv"
      },
      "outputs": [],
      "source": [
        "import os\n",
        "import numpy as np\n",
        "import matplotlib.pyplot as plt\n",
        "\n",
        "from typing import Optional\n",
        "from tqdm.notebook import tqdm\n",
        "\n",
        "import torch\n",
        "import torch.nn as nn\n",
        "import torch.nn.functional as F\n",
        "import torch.utils.data as data\n",
        "\n",
        "USE_CUDA = torch.cuda.is_available()"
      ]
    },
    {
      "cell_type": "markdown",
      "metadata": {
        "id": "KHouHarf_Hs-"
      },
      "source": [
        "## Task 2: PixelCNN receptive field and autocompletion on MNIST (4pt)\n",
        "\n",
        "[PixelCNN](https://arxiv.org/abs/1601.06759) model uses masked causal convoultions on images, we have discussed this model on the lecture 1 and seminar 2.\n",
        "\n",
        "The PixelCNN model is a powerful model. But the model has drawbacks.\n",
        "\n",
        "1. The model is sequential and sampling is really slow (it is a drawback of all AR models).\n",
        "\n",
        "2. The receptive field of the model is not so large. Even if the model is well-trained, the samples do not have long-range history.\n",
        "\n",
        "We will analyze these drawbacks.\n",
        "\n",
        "But first of all we need to train this model."
      ]
    },
    {
      "cell_type": "code",
      "execution_count": null,
      "metadata": {
        "colab": {
          "base_uri": "https://localhost:8080/",
          "height": 596
        },
        "id": "PiOBcSvx_PN8",
        "outputId": "05d7bbde-b89b-4a4b-aa46-005e27e4d2e2"
      },
      "outputs": [
        {
          "name": "stderr",
          "output_type": "stream",
          "text": [
            "100%|██████████| 9.91M/9.91M [00:01<00:00, 5.03MB/s]\n",
            "100%|██████████| 28.9k/28.9k [00:00<00:00, 135kB/s]\n",
            "100%|██████████| 1.65M/1.65M [00:01<00:00, 1.26MB/s]\n",
            "100%|██████████| 4.54k/4.54k [00:00<00:00, 8.18MB/s]\n"
          ]
        },
        {
          "data": {
            "image/png": "[encoded data removed]",
            "text/plain": [
              "<Figure size 600x600 with 1 Axes>"
            ]
          },
          "metadata": {},
          "output_type": "display_data"
        }
      ],
      "source": [
        "train_data, test_data = load_dataset(\"mnist\", flatten=False, binarize=True)\n",
        "visualize_images(train_data, \"MNIST samples\")"
      ]
    },
    {
      "cell_type": "markdown",
      "metadata": {
        "id": "elXdTtB7_6Xl"
      },
      "source": [
        "Masked Convolution Layer is the basic building block of PixelCNN model. Look carefully at this code."
      ]
    },
    {
      "cell_type": "code",
      "execution_count": null,
      "metadata": {
        "id": "ybALnsgO_PRW"
      },
      "outputs": [],
      "source": [
        "class MaskedConv2d(nn.Conv2d):\n",
        "    def __init__(\n",
        "        self, mask_type: str, in_channels: int, out_channels: int, kernel_size: int = 5\n",
        "    ) -> None:\n",
        "        assert mask_type in [\"A\", \"B\"]\n",
        "        super().__init__(\n",
        "            in_channels=in_channels,\n",
        "            out_channels=out_channels,\n",
        "            kernel_size=kernel_size,\n",
        "            padding=kernel_size // 2,\n",
        "        )\n",
        "        self.register_buffer(\"mask\", torch.zeros_like(self.weight))\n",
        "        self.create_mask(mask_type)\n",
        "\n",
        "    def forward(self, input: torch.Tensor) -> torch.Tensor:\n",
        "        return F.conv2d(input, self.weight * self.mask, self.bias, padding=self.padding)\n",
        "\n",
        "    def create_mask(self, mask_type: str) -> None:\n",
        "        # try to understand the logic about mask_type\n",
        "        k = self.kernel_size[0]\n",
        "        self.mask[:, :, : k // 2] = 1\n",
        "        self.mask[:, :, k // 2, : k // 2] = 1\n",
        "        if mask_type == \"B\":\n",
        "            self.mask[:, :, k // 2, k // 2] = 1\n",
        "\n",
        "\n",
        "def test_masked_conv2d():\n",
        "    layer = MaskedConv2d(\"A\", 2, 2)\n",
        "    assert np.allclose(layer.mask[:, :, 2, 2].numpy(), np.zeros((2, 2)))\n",
        "\n",
        "    layer = MaskedConv2d(\"B\", 2, 2)\n",
        "    assert np.allclose(layer.mask[:, :, 2, 2].numpy(), np.ones((2, 2)))\n",
        "\n",
        "\n",
        "test_masked_conv2d()"
      ]
    },
    {
      "cell_type": "markdown",
      "metadata": {
        "id": "lPw0osOrAJFm"
      },
      "source": [
        "[Layer Normalization](https://arxiv.org/abs/1607.06450) helps to stabilize training process."
      ]
    },
    {
      "cell_type": "code",
      "execution_count": null,
      "metadata": {
        "id": "npUNrimpAGUZ"
      },
      "outputs": [],
      "source": [
        "class LayerNorm(nn.LayerNorm):\n",
        "    def __init__(self, n_filters: int) -> None:\n",
        "        super().__init__(n_filters)\n",
        "\n",
        "    def forward(self, x: torch.Tensor) -> torch.Tensor:\n",
        "        x = x.permute(0, 2, 3, 1).contiguous()\n",
        "        x = super().forward(x)\n",
        "        return x.permute(0, 3, 1, 2).contiguous()"
      ]
    },
    {
      "cell_type": "markdown",
      "metadata": {
        "id": "11_PstPkAXig"
      },
      "source": [
        "Now we are ready to define the main PixelCNN model."
      ]
    },
    {
      "cell_type": "code",
      "execution_count": null,
      "metadata": {
        "id": "xC6E-hrHALYf"
      },
      "outputs": [],
      "source": [
        "class PixelCNN(nn.Module):\n",
        "    def __init__(\n",
        "        self,\n",
        "        input_shape: tuple[int],\n",
        "        n_filters: int = 64,\n",
        "        kernel_size: int = 7,\n",
        "        n_layers: int = 5,\n",
        "        use_layer_norm: bool = True,\n",
        "    ) -> None:\n",
        "\n",
        "        super().__init__()\n",
        "        self.input_shape = input_shape\n",
        "\n",
        "        # we apply the sequence of MaskedConv2d -> LayerNorm (it is optional) -> ReLU\n",
        "        # the last layer should be MaskedConv2d (not ReLU)\n",
        "        # Note 1: the first conv layer should be of type 'A'\n",
        "        # Note 2: final output_dim in MaskedConv2d must be 2\n",
        "        model = [MaskedConv2d(\"A\", 1, n_filters, kernel_size=kernel_size)]\n",
        "\n",
        "        for _ in range(n_layers):\n",
        "            if use_layer_norm:\n",
        "                model.append(LayerNorm(n_filters))\n",
        "            model.append(nn.ReLU())\n",
        "            model.append(\n",
        "                MaskedConv2d(\"B\", n_filters, n_filters, kernel_size=kernel_size)\n",
        "            )\n",
        "\n",
        "        model.extend(\n",
        "            [\n",
        "                nn.ReLU(),\n",
        "                MaskedConv2d(\"B\", in_channels=n_filters, out_channels=2, kernel_size=1),\n",
        "            ]\n",
        "        )\n",
        "\n",
        "        self.net = nn.Sequential(*model)\n",
        "\n",
        "    @property\n",
        "    def device(self):\n",
        "        return next(self.parameters()).device\n",
        "\n",
        "    def forward(self, x: torch.Tensor) -> torch.Tensor:\n",
        "        batch_size = x.shape[0]\n",
        "        out = (x.float() - 0.5) / 0.5\n",
        "        out = self.net(out)\n",
        "        return out.view(batch_size, 2, 1, *self.input_shape)\n",
        "\n",
        "    def loss(self, x: torch.Tensor) -> dict:\n",
        "        # our loss is just cross entropy\n",
        "        total_loss = F.cross_entropy(self(x), x.long())\n",
        "        return {\"total_loss\": total_loss}\n",
        "\n",
        "    @torch.no_grad()\n",
        "    def sample(self, n: int) -> np.ndarray:\n",
        "        # read carefully the sampling process\n",
        "        # here you see the sequential process of sampling\n",
        "        samples = torch.zeros(n, 1, *self.input_shape).to(self.device)\n",
        "        for r in range(self.input_shape[0]):\n",
        "            for c in range(self.input_shape[1]):\n",
        "                logits = self(samples)[:, :, :, r, c]\n",
        "                probs = F.softmax(logits, dim=1).squeeze(-1)\n",
        "                samples[:, 0, r, c] = torch.multinomial(probs, num_samples=1).squeeze(\n",
        "                    -1\n",
        "                )\n",
        "        return samples.cpu().numpy()"
      ]
    },
    {
      "cell_type": "code",
      "execution_count": null,
      "metadata": {
        "colab": {
          "base_uri": "https://localhost:8080/",
          "height": 67,
          "referenced_widgets": [
            "9fafef7b6a89491398422acf8e969e03",
            "79c6f46c39de4b1a9545f81b4b29af3d",
            "bab1ce9bc37a4854a6556e7d5b8a80f7",
            "1867b335f9b64d92a459c2d721e6c059",
            "8d0ec82f1b144dc79e4ab6878fb369b8",
            "a120f5b457474000a7cc365b8e82de29",
            "823ac37697fb4b9eb409f2b85d3a7925",
            "5f42e38386fa4abd9a11414ef5cb6821",
            "edba30472d5e4e64ab83194303df62e7",
            "b003029668be4031a0af95680edea8be",
            "f5ab5f631cdd45318d3c098047a03c43"
          ]
        },
        "id": "9FI5foNQBlr5",
        "outputId": "908ed677-dc60-47eb-8a4e-5dd861105539"
      },
      "outputs": [
        {
          "data": {
            "application/vnd.jupyter.widget-view+json": {
              "model_id": "9fafef7b6a89491398422acf8e969e03",
              "version_major": 2,
              "version_minor": 0
            },
            "text/plain": [
              "  0%|          | 0/10 [00:00<?, ?it/s]"
            ]
          },
          "metadata": {},
          "output_type": "display_data"
        },
        {
          "name": "stdout",
          "output_type": "stream",
          "text": [
            "Test loss: 0.08\n"
          ]
        }
      ],
      "source": [
        "# ====\n",
        "# your code\n",
        "# choose these parameters\n",
        "EPOCHS = 10\n",
        "BATCH_SIZE = 128\n",
        "LR = 1e-3\n",
        "N_LAYERS = 5\n",
        "N_FILTERS = 64\n",
        "USE_LAYER_NORM = True\n",
        "# ====\n",
        "\n",
        "model = PixelCNN(\n",
        "    input_shape=(28, 28),\n",
        "    n_filters=N_FILTERS,\n",
        "    kernel_size=5,\n",
        "    n_layers=N_LAYERS,\n",
        "    use_layer_norm=USE_LAYER_NORM,\n",
        ")\n",
        "\n",
        "loss = model.loss(torch.zeros(1, 1, 28, 28))\n",
        "assert isinstance(loss, dict)\n",
        "assert \"total_loss\" in loss\n",
        "\n",
        "train_loader = data.DataLoader(train_data, batch_size=BATCH_SIZE, shuffle=True)\n",
        "test_loader = data.DataLoader(test_data, batch_size=BATCH_SIZE)\n",
        "train_losses, test_losses = train_model(\n",
        "    model,\n",
        "    train_loader,\n",
        "    test_loader,\n",
        "    epochs=EPOCHS,\n",
        "    lr=LR,\n",
        "    use_tqdm=True,\n",
        "    use_cuda=USE_CUDA,\n",
        ")\n",
        "\n",
        "test_loss = test_losses[\"total_loss\"][-1]\n",
        "print(\n",
        "    f\"Test loss: {test_loss:.2f}\",\n",
        ")\n",
        "assert test_loss < 0.10"
      ]
    },
    {
      "cell_type": "markdown",
      "metadata": {
        "id": "oLR1d8HICihS"
      },
      "source": [
        "Even if the test loss is bigger than the value in assert, try to visualize train/test curves, it could find you to find the bug."
      ]
    },
    {
      "cell_type": "code",
      "execution_count": null,
      "metadata": {
        "colab": {
          "base_uri": "https://localhost:8080/",
          "height": 458
        },
        "id": "RIiyqsSRCZXs",
        "outputId": "50f6ab3b-d507-4279-d788-038febefe927"
      },
      "outputs": [
        {
          "data": {
            "image/png": "[encoded data removed]",
            "text/plain": [
              "<Figure size 640x480 with 1 Axes>"
            ]
          },
          "metadata": {},
          "output_type": "display_data"
        }
      ],
      "source": [
        "plot_training_curves(train_losses, test_losses)"
      ]
    },
    {
      "cell_type": "markdown",
      "metadata": {
        "id": "bdMY__h8CwE5"
      },
      "source": [
        "Now we sample the new images from the model. Notice that the sampling from the autoregressive model is slow, because it is a sequential process."
      ]
    },
    {
      "cell_type": "code",
      "execution_count": null,
      "metadata": {
        "colab": {
          "base_uri": "https://localhost:8080/",
          "height": 523
        },
        "id": "skwg5JlRCt0s",
        "outputId": "77443513-2ce6-411e-d7c6-304b2ff8a4de"
      },
      "outputs": [
        {
          "data": {
            "image/png": "[encoded data removed]",
            "text/plain": [
              "<Figure size 600x600 with 1 Axes>"
            ]
          },
          "metadata": {},
          "output_type": "display_data"
        }
      ],
      "source": [
        "samples = model.sample(25)\n",
        "show_samples(samples, title=\"MNIST samples\", nrow=5)"
      ]
    },
    {
      "cell_type": "markdown",
      "metadata": {
        "id": "6LK1ttmcqfvW"
      },
      "source": [
        "### Receptive field\n",
        "\n",
        "Let try to visualize the receptive field of the model.\n",
        "\n",
        "We should see that the receptive field grows with increasing number of convolutional layers.\n",
        "\n",
        "The receptive field can be empirically measured by backpropagating an arbitrary loss for the output features of a specific pixel with respect to the input. We implement this idea below, and visualize the receptive field below."
      ]
    },
    {
      "cell_type": "code",
      "execution_count": null,
      "metadata": {
        "id": "J1ekd7rGDBTi"
      },
      "outputs": [],
      "source": [
        "def plot_receptive_field(model: object, model_name: str) -> None:\n",
        "    # ====\n",
        "    # your code\n",
        "    # 1) create tensor with zeros and set required_grad to True.\n",
        "    # 2) apply model to the tensor\n",
        "    # 3) apply backward() to the center pixel of model output\n",
        "    # 4) take the gradient with respect to input\n",
        "    # 5) binary receptive field is an indicator map in which we stay 1's if gradient more than 1e-8\n",
        "    # 6) weighted receptive field is the normalized gradient (values lies in [0, 1])\n",
        "\n",
        "    # ====\n",
        "    model.eval()\n",
        "    h, w = model.input_shape\n",
        "    device = model.device\n",
        "\n",
        "    x = torch.zeros(1, 1, h, w, device=device, requires_grad=True)\n",
        "    model.zero_grad(set_to_none=True)\n",
        "    out = model(x)\n",
        "\n",
        "    x_center = h // 2\n",
        "    y_center = w // 2\n",
        "\n",
        "    target = out[0, :, 0, x_center, y_center].sum()\n",
        "    target.backward()\n",
        "\n",
        "    grad = x.grad.detach().abs().squeeze().cpu().numpy()\n",
        "    binary_map = (grad > 1e-8).astype(np.float32)\n",
        "\n",
        "    gmax = grad.max()\n",
        "    weighted_map = (grad / gmax) if gmax > 0 else grad\n",
        "\n",
        "    # we stack the maps to get RGB image\n",
        "    binary_map = np.stack([binary_map, binary_map, binary_map], axis=-1)\n",
        "    weighted_map = np.stack([weighted_map, weighted_map, weighted_map], axis=-1)\n",
        "\n",
        "    # center point will be red\n",
        "    binary_map[x_center, y_center] = [1, 0, 0]\n",
        "    weighted_map[x_center, y_center] = [1, 0, 0]\n",
        "\n",
        "    fig, ax = plt.subplots(1, 2, figsize=(10, 6))\n",
        "    ax[0].imshow(weighted_map, vmin=0.0, vmax=1.0)\n",
        "    ax[1].imshow(binary_map, vmin=0.0, vmax=1.0)\n",
        "\n",
        "    ax[0].set_title(f\"Weighted receptive field for {model_name}\")\n",
        "    ax[1].set_title(f\"Binary receptive field for {model_name}\")\n",
        "\n",
        "    ax[0].axis(\"off\")\n",
        "    ax[1].axis(\"off\")\n",
        "    plt.show()"
      ]
    },
    {
      "cell_type": "code",
      "execution_count": null,
      "metadata": {
        "colab": {
          "base_uri": "https://localhost:8080/",
          "height": 1000
        },
        "id": "ruOurWdFDIYP",
        "outputId": "28b64261-f54a-40ca-e0d0-5abf03df9c35"
      },
      "outputs": [
        {
          "data": {
            "image/png": "[encoded data removed]",
            "text/plain": [
              "<Figure size 1000x600 with 2 Axes>"
            ]
          },
          "metadata": {},
          "output_type": "display_data"
        },
        {
          "data": {
            "image/png": "[encoded data removed]",
            "text/plain": [
              "<Figure size 1000x600 with 2 Axes>"
            ]
          },
          "metadata": {},
          "output_type": "display_data"
        },
        {
          "data": {
            "image/png": "[encoded data removed]",
            "text/plain": [
              "<Figure size 1000x600 with 2 Axes>"
            ]
          },
          "metadata": {},
          "output_type": "display_data"
        },
        {
          "data": {
            "image/png": "[encoded data removed]",
            "text/plain": [
              "<Figure size 1000x600 with 2 Axes>"
            ]
          },
          "metadata": {},
          "output_type": "display_data"
        }
      ],
      "source": [
        "for n_layers in [1, 3, 5, 6]:\n",
        "    model = PixelCNN(\n",
        "        input_shape=(28, 28),\n",
        "        n_filters=32,\n",
        "        kernel_size=5,\n",
        "        n_layers=n_layers,\n",
        "        use_layer_norm=True,\n",
        "    )\n",
        "    if USE_CUDA:\n",
        "        model = model.cuda()\n",
        "    plot_receptive_field(model, model_name=f\"PixelCNN {n_layers} layers\")"
      ]
    },
    {
      "cell_type": "markdown",
      "metadata": {
        "id": "Njl3VAmruh_v"
      },
      "source": [
        "You have to see that PixelCNN has strange blind spot in binary receptive field plot on the right side. This is a known issue of PixelCNN model. Please, try to understand why it happens.\n",
        "\n",
        "One way to solve this problem is a [GatedPixelCNN](https://arxiv.org/pdf/1606.05328.pdf) model (see paper, if you are interested in)."
      ]
    },
    {
      "cell_type": "markdown",
      "metadata": {
        "id": "z8eXfFdWzoVu"
      },
      "source": [
        "### Image autocompletion\n",
        "\n",
        "One more feature of autoregressive model that we try is auto-completing an image. As autoregressive models predict pixels one by one, we can set the first pixels to predefined values and check how the model completes the image.\n",
        "\n",
        "For implementing this, we just need to skip the iterations in the sampling loop that already have a value unequals to -1.\n",
        "We redefine the sample method in our PixelCNN class to allow it to take the init of the sample."
      ]
    },
    {
      "cell_type": "code",
      "execution_count": null,
      "metadata": {
        "colab": {
          "base_uri": "https://localhost:8080/"
        },
        "id": "dJUiJwAqTpYA",
        "outputId": "2f88d690-908b-4da1-ac41-c434be0dcc76"
      },
      "outputs": [
        {
          "data": {
            "text/plain": [
              "tensor([[1, 2, 3],\n",
              "        [1, 2, 3],\n",
              "        [1, 2, 3]])"
            ]
          },
          "execution_count": 13,
          "metadata": {},
          "output_type": "execute_result"
        }
      ],
      "source": [
        "torch.tensor([[1, 2, 3]]) * torch.tensor([[1], [1], [1]])"
      ]
    },
    {
      "cell_type": "code",
      "execution_count": null,
      "metadata": {
        "id": "2X24nc_eqET-"
      },
      "outputs": [],
      "source": [
        "class PixelCNNAutoComplete(PixelCNN):\n",
        "    @torch.no_grad()\n",
        "    def sample(self, n: int, init: Optional[torch.Tensor] = None) -> np.ndarray:\n",
        "        # ====\n",
        "        # your code\n",
        "        # this method almost the same as the method of the base PixelCNN model\n",
        "        # but now if init is given, this tensor will be used as a starting image.\n",
        "        # The pixels to fill should be -1 in the input tensor.\n",
        "\n",
        "        # ====\n",
        "\n",
        "        samples = init if init is not None else torch.zeros(n, 1, *self.input_shape).to(self.device)\n",
        "\n",
        "        for r in range(self.input_shape[0]):\n",
        "            for c in range(self.input_shape[1]):\n",
        "                if (init is None) or (init[0, 0, r, c].item() == -1):\n",
        "                    logits = self(samples)[:, :, :, r, c]\n",
        "                    probs = F.softmax(logits, dim=1).squeeze(-1)\n",
        "                    samples[:, 0, r, c] = torch.multinomial(probs, num_samples=1).squeeze(\n",
        "                        -1\n",
        "                    )\n",
        "        return samples.cpu().numpy()"
      ]
    },
    {
      "cell_type": "markdown",
      "metadata": {
        "id": "l6x2bX4Z0w5E"
      },
      "source": [
        "You have to repeat the model training."
      ]
    },
    {
      "cell_type": "code",
      "execution_count": null,
      "metadata": {
        "colab": {
          "base_uri": "https://localhost:8080/",
          "height": 49,
          "referenced_widgets": [
            "0ceb544b4e5d488994e5765f710bfb8a",
            "67b0bd08fdd54598ad7e10d1016d95d4",
            "9c40fbe47c02479eb089f482ec4bd009",
            "d3858a8dcf3146378162ad19babe3a27",
            "89b518abb6814dc999d1d16721745d5b",
            "04a4928bbe344a8fa68b5d5bd5bd2d99",
            "0d9851d25ace45808ee73ad68e7265cd",
            "8ae40f33d791454197d0949681331312",
            "709d043bcc4b421e81f1253e56229760",
            "872ce8654ee144d8abcea8eec5bce651",
            "49f9dfca4ccc45e781a877e655fb4b8b"
          ]
        },
        "id": "qFdMAilywnI-",
        "outputId": "d8a022b4-faf1-4ac5-b03e-d7fbb5a0c9c4"
      },
      "outputs": [
        {
          "data": {
            "application/vnd.jupyter.widget-view+json": {
              "model_id": "0ceb544b4e5d488994e5765f710bfb8a",
              "version_major": 2,
              "version_minor": 0
            },
            "text/plain": [
              "  0%|          | 0/10 [00:00<?, ?it/s]"
            ]
          },
          "metadata": {},
          "output_type": "display_data"
        }
      ],
      "source": [
        "model = PixelCNNAutoComplete(\n",
        "    input_shape=(28, 28),\n",
        "    n_filters=N_FILTERS,\n",
        "    kernel_size=5,\n",
        "    n_layers=N_LAYERS,\n",
        "    use_layer_norm=USE_LAYER_NORM,\n",
        ")\n",
        "\n",
        "train_losses, test_losses = train_model(\n",
        "    model,\n",
        "    train_loader,\n",
        "    test_loader,\n",
        "    epochs=EPOCHS,\n",
        "    lr=LR,\n",
        "    use_tqdm=True,\n",
        "    use_cuda=USE_CUDA,\n",
        ")\n",
        "\n",
        "assert test_losses[\"total_loss\"][-1] < 0.10"
      ]
    },
    {
      "cell_type": "markdown",
      "metadata": {
        "id": "Rd9rpg2I0paF"
      },
      "source": [
        "We randomly take images from the training set, mask the lower half of the image (set -1's), and let the model autocomplete it. We do this several times for each image to see the diversity of samples."
      ]
    },
    {
      "cell_type": "code",
      "execution_count": null,
      "metadata": {
        "colab": {
          "base_uri": "https://localhost:8080/",
          "height": 1000
        },
        "id": "yR0zivWlwsYR",
        "outputId": "220141ce-b65a-4ed0-e739-edf9e592d3b4"
      },
      "outputs": [
        {
          "data": {
            "image/png": "[encoded data removed]",
            "text/plain": [
              "<Figure size 600x600 with 1 Axes>"
            ]
          },
          "metadata": {},
          "output_type": "display_data"
        },
        {
          "data": {
            "image/png": "[encoded data removed]",
            "text/plain": [
              "<Figure size 600x600 with 1 Axes>"
            ]
          },
          "metadata": {},
          "output_type": "display_data"
        },
        {
          "data": {
            "image/png": "[encoded data removed]",
            "text/plain": [
              "<Figure size 600x600 with 1 Axes>"
            ]
          },
          "metadata": {},
          "output_type": "display_data"
        },
        {
          "data": {
            "image/png": "[encoded data removed]",
            "text/plain": [
              "<Figure size 600x600 with 1 Axes>"
            ]
          },
          "metadata": {},
          "output_type": "display_data"
        },
        {
          "data": {
            "image/png": "[encoded data removed]",
            "text/plain": [
              "<Figure size 600x600 with 1 Axes>"
            ]
          },
          "metadata": {},
          "output_type": "display_data"
        },
        {
          "data": {
            "image/png": "[encoded data removed]",
            "text/plain": [
              "<Figure size 600x600 with 1 Axes>"
            ]
          },
          "metadata": {},
          "output_type": "display_data"
        }
      ],
      "source": [
        "def autocomplete_image(image: np.ndarray, model: object, n_samples: int) -> None:\n",
        "    # Remove lower half of the image\n",
        "    image_init = image.copy()\n",
        "    image_init[:, image.shape[1] // 2 :, :] = -1\n",
        "    samples = np.stack([image, np.maximum(image_init, 0)])\n",
        "    show_samples(samples, title=\"Original image and input image to sampling\", nrow=2)\n",
        "    # Generate completions\n",
        "    image_init = torch.tensor(image_init)\n",
        "    image_init = (\n",
        "        image_init.unsqueeze(dim=0).expand(n_samples, -1, -1, -1).to(model.device)\n",
        "    )\n",
        "    img_generated = model.sample(n_samples, image_init)\n",
        "    show_samples(img_generated, title=\"n_samples\", nrow=4)\n",
        "\n",
        "\n",
        "for i in range(1, 4):\n",
        "    autocomplete_image(train_data[i], model, n_samples=4)"
      ]
    },
    {
      "cell_type": "markdown",
      "metadata": {
        "id": "DajrWO8YJyYB"
      },
      "source": [
        "## Task 3: ImageGPT on MNIST (5pt)\n",
        "\n",
        "In this task you will try to implement the Image Transformer net for an autoregressive generation MNIST images. See the [blog](https://openai.com/blog/image-gpt/) and [paper](https://cdn.openai.com/papers/Generative_Pretraining_from_Pixels_V2.pdf) for details."
      ]
    },
    {
      "cell_type": "markdown",
      "metadata": {
        "id": "Wz6to33lJydk"
      },
      "source": [
        "### Architecture\n",
        "\n",
        "Let describe the model architecture.\n",
        "\n",
        "Image Transformer consists of $L$ identical blocks similar to GPT-2 decoder blocks. These blocks are applied sequentially. The $l$th block receives a tensor $\\mathbf{h}^l$ with shape (batch_size, pixel_num, emb_dim) where pixel_num is a total number of pixels $(28*28)$ and emb_dim is a hyperparameter for the size of the embeddings.\n",
        "\n",
        "The tensor is transformed as follows:\n",
        "\\begin{align}\n",
        "    \\mathbf{n}^l &= \\text{layer\\_norm}(\\mathbf{h}^l), \\\\\n",
        "    \\mathbf{a}^l &= \\mathbf{h}^l + \\text{multihead\\_attention}(\\mathbf{n}^l), \\\\\n",
        "    \\mathbf{h}^{l+1} &= \\mathbf{a}^l + \\text{MLP}(\\text{layer\\_norm}(a^l)). \\\\\n",
        "\\end{align}\n",
        "\n",
        "We have already used LayerNorm in PixelCNN, so we do not discuss it here.\n",
        "\n",
        "Each head of the multihead attention computes an embedding\n",
        "$$\n",
        "    \\text{Attention}(\\mathbf{Q}, \\mathbf{K}, \\mathbf{V}) = \\text{softmax}(\\frac{\\mathbf{Q}\\mathbf{K}^T}{\\sqrt{d_k}}) \\mathbf{V},\n",
        "$$\n",
        "where $\\mathbf{Q}, \\mathbf{K}, \\mathbf{V}$ - query/key/value matrices obtained using Linear projection of $\\mathbf{h}^l$.\n",
        "Then embeddings across all heads are stacked and followed by a linear layer.\n",
        "\n",
        "We will use just 2 Linear layers with ReLU activation for MLP.\n",
        "\n",
        "Embedding $h^1$ (our first embedding) is a sum of a token embedding of the input batch and learned positional embedding.\n",
        "\n",
        "After the last block we will apply a LayerNorm and a Linear layer to obtain logits of size (batch_size, pixel_num, 2)\n",
        "$$\n",
        "\\begin{align*}\n",
        "  n^L &= \\text{layer\\_norm}(h^L) \\\\\n",
        "  \\text{logits} &= \\text{linear}(n^L)\n",
        "\\end{align*}\n",
        "$$"
      ]
    },
    {
      "cell_type": "markdown",
      "metadata": {
        "id": "bl_g0XJDX8Py"
      },
      "source": [
        "### Autoregressive property\n",
        "To make the model autoregressive we will introduce the following changes:\n",
        "\n",
        "1. We will apply the upper triangular mask to the matrix of attention logits ($\\mathbf{Q}\\mathbf{K}^T$). Masked values are made close to minus infinity so they will turn zero after softmax.\n",
        "2. During training we will add \"start of sequence\" token to the input tensor and pop the last pixel.\n",
        "\n",
        "Note: we will use raster order to identify which pixels come first (as we have done in PixelCNN). For each pixel the predicted probabality is conditioned on all the previous pixels."
      ]
    },
    {
      "cell_type": "markdown",
      "metadata": {
        "id": "wIZ52wPIPE2a"
      },
      "source": [
        "Let start with the multihead attention block."
      ]
    },
    {
      "cell_type": "code",
      "execution_count": null,
      "metadata": {
        "id": "lv9pX1eyQ09M"
      },
      "outputs": [],
      "source": [
        "class MultiheadAttention(nn.MultiheadAttention):\n",
        "    def __init__(self, embed_dim: int, num_heads: int) -> None:\n",
        "        super().__init__(embed_dim, num_heads)\n",
        "\n",
        "    def get_attention_mask(self, x: torch.Tensor) -> torch.Tensor:\n",
        "        # ====\n",
        "        # your code\n",
        "        # define attention mask, it should contain\n",
        "        # - zeros under and on the main diagonal\n",
        "        # - minus Inf above the main diagonal\n",
        "\n",
        "        # ====\n",
        "\n",
        "        attention_mask = torch.triu(torch.full((x.shape[0], x.shape[0]), float('-inf'), device=x.device), diagonal=1)\n",
        "        return attention_mask\n",
        "\n",
        "    def forward(self, x: torch.Tensor) -> torch.Tensor:\n",
        "        attn_mask = self.get_attention_mask(x)\n",
        "        return super().forward(x, x, x, attn_mask=attn_mask, need_weights=False)[0]\n",
        "\n",
        "\n",
        "def test_attention_mask() -> None:\n",
        "    x = torch.zeros(2, 4, 16)  # (pixel_num, batch_size, emb_dim)\n",
        "    mask = np.array([[0.0, -np.inf], [0.0, 0.0]])\n",
        "    layer = MultiheadAttention(16, 8)\n",
        "    attention_mask = layer.get_attention_mask(x)\n",
        "    assert attention_mask.size() == (x.size(0), x.size(0))\n",
        "    assert np.allclose(attention_mask.numpy(), mask)\n",
        "    out = layer(x)\n",
        "    assert x.size() == out.size()\n",
        "\n",
        "\n",
        "test_attention_mask()"
      ]
    },
    {
      "cell_type": "markdown",
      "metadata": {
        "id": "a3DcBLp3T86-"
      },
      "source": [
        "Now we will define the base decoder block."
      ]
    },
    {
      "cell_type": "code",
      "execution_count": null,
      "metadata": {
        "id": "yBxhyjd7h3Ww"
      },
      "outputs": [],
      "source": [
        "class DecoderBlock(nn.Module):\n",
        "    def __init__(self, embed_dim: int, num_heads: int) -> None:\n",
        "        \"\"\"\n",
        "        :param embed_dim: dimension of embedding space\n",
        "        :param num_heads: number of attention heads\n",
        "        \"\"\"\n",
        "        super().__init__()\n",
        "        assert embed_dim % num_heads == 0\n",
        "\n",
        "        # ====\n",
        "        # your code\n",
        "        # define multihead attention (https://pytorch.org/docs/stable/generated/torch.nn.MultiheadAttention.html)\n",
        "        # define LayerNorm (https://pytorch.org/docs/stable/generated/torch.nn.LayerNorm.html)\n",
        "        # (here we do not use previous class for LayerNorm because we do not need to change order of tensor dimensions)\n",
        "        # define MLP - 2 linear layers with ReLU\n",
        "        # (You could choose the latent dimensionality of MLP as you like. For example, double the embed_dim)\n",
        "\n",
        "        # ====\n",
        "        self.layer_norm_1  = nn.LayerNorm(embed_dim)\n",
        "        self.multihead_att = MultiheadAttention(embed_dim, num_heads)\n",
        "        self.layer_norm_2  = nn.LayerNorm(embed_dim)\n",
        "        self.MLP = nn.Sequential(nn.Linear(embed_dim, 2 * embed_dim),\n",
        "                            nn.ReLU(),\n",
        "                            nn.Linear(2 * embed_dim, embed_dim))\n",
        "\n",
        "\n",
        "    def forward(self, x: torch.Tensor) -> torch.Tensor:\n",
        "        # ====\n",
        "        # your code\n",
        "        # here you have to implement formulas that described above.\n",
        "\n",
        "        # ====\n",
        "        out_1 = self.layer_norm_1(x)\n",
        "        out_2 = self.multihead_att(out_1) + x\n",
        "        out_3 = self.layer_norm_2(out_2)\n",
        "        out_4 = self.MLP(out_3) + out_2\n",
        "\n",
        "        return out_4\n",
        "\n",
        "\n",
        "def test_decoder_block() -> None:\n",
        "    block = DecoderBlock(embed_dim=12, num_heads=4)\n",
        "    x = torch.zeros(4, 28, 12)\n",
        "    assert x.shape == block(x).shape\n",
        "\n",
        "\n",
        "test_decoder_block()"
      ]
    },
    {
      "cell_type": "code",
      "execution_count": null,
      "metadata": {
        "colab": {
          "base_uri": "https://localhost:8080/"
        },
        "id": "zniQxyluDG5V",
        "outputId": "01843d71-225a-48a8-87d3-2d916f0c5493"
      },
      "outputs": [
        {
          "data": {
            "text/plain": [
              "torch.Size([3, 2, 2])"
            ]
          },
          "execution_count": 21,
          "metadata": {},
          "output_type": "execute_result"
        }
      ],
      "source": [
        "torch.tensor([[[1, 2], [3, 4]], [[5, 6], [7, 8]], [[9, 10], [11, 12]]]).shape"
      ]
    },
    {
      "cell_type": "code",
      "execution_count": null,
      "metadata": {
        "colab": {
          "base_uri": "https://localhost:8080/"
        },
        "id": "GvAc0z0NBanU",
        "outputId": "9f621f44-531d-4c2c-f4f2-4d46ccdca07d"
      },
      "outputs": [
        {
          "data": {
            "text/plain": [
              "tensor([[[ 2,  3],\n",
              "         [ 4,  5]],\n",
              "\n",
              "        [[ 6,  7],\n",
              "         [ 8,  9]],\n",
              "\n",
              "        [[10, 11],\n",
              "         [12, 13]]])"
            ]
          },
          "execution_count": 22,
          "metadata": {},
          "output_type": "execute_result"
        }
      ],
      "source": [
        "torch.tensor([[[1, 2], [3, 4]], [[5, 6], [7, 8]], [[9, 10], [11, 12]]]) + torch.tensor([[[1, 1]], [[1, 1]], [[1, 1]]])"
      ]
    },
    {
      "cell_type": "code",
      "execution_count": null,
      "metadata": {
        "id": "2yXwW9fvVJN1"
      },
      "outputs": [],
      "source": [
        "class ImageGPT(nn.Module):\n",
        "    def __init__(\n",
        "        self, input_shape: tuple[int], embed_dim: int, num_heads: int, num_layers: int\n",
        "    ) -> None:\n",
        "        super().__init__()\n",
        "\n",
        "        self.embed_dim = embed_dim\n",
        "        self.input_shape = input_shape\n",
        "        self.criterion = nn.BCEWithLogitsLoss()\n",
        "\n",
        "        # \"start of sequence\" token (we initialize it from Normal distribution)\n",
        "        self.sos = torch.nn.Parameter(torch.zeros(embed_dim))\n",
        "        nn.init.normal_(self.sos)\n",
        "\n",
        "        # ====\n",
        "        # your code\n",
        "        # 1) define token_embeddings\n",
        "        #    (we will have 2 embeddings in total, because our images are binary)\n",
        "        # 2) define position_embeddings (they will be learnable)\n",
        "\n",
        "        # ====\n",
        "        self.token_embeddings    = nn.Embedding(num_embeddings=2, embedding_dim=embed_dim)\n",
        "        self.position_embeddings = nn.Embedding(num_embeddings=input_shape[0] * input_shape[1],\n",
        "                                      embedding_dim=embed_dim)\n",
        "\n",
        "        self.layers = nn.ModuleList()\n",
        "        # ====\n",
        "        # your code\n",
        "        # 1) add decoder blocks to self.layers list\n",
        "        # 2) define last LayerNorm\n",
        "        # 3) define final Linear layer (without bias)\n",
        "\n",
        "        # ====\n",
        "        for _ in range(num_layers):\n",
        "            self.layers.append(DecoderBlock(embed_dim, num_heads))\n",
        "\n",
        "        self.last_layers = nn.Sequential(nn.LayerNorm(embed_dim),\n",
        "                                         nn.Linear(embed_dim, 1, bias=False))\n",
        "\n",
        "\n",
        "    @property\n",
        "    def device(self):\n",
        "        return next(self.parameters()).device\n",
        "\n",
        "    def add_sos_token(self, embeddings: torch.Tensor) -> torch.Tensor:\n",
        "        batch_size = embeddings.size(1)\n",
        "        # ====\n",
        "        # your code\n",
        "        # prepend sos (start of sequence) token\n",
        "        # 1) repeat sos token batch_size times (make it of size (1, batch_size, emd_size))\n",
        "        # 2) drop last embedding from embeddings\n",
        "        # 3) concat repeated sos token to embeddings (after dropping)\n",
        "\n",
        "        # ====\n",
        "        sos = self.sos.view(1, 1, self.embed_dim).expand(1, batch_size, self.embed_dim).to(embeddings.device)\n",
        "        embeddings = torch.cat((sos, embeddings[:-1, :, :]), dim=0)\n",
        "        return embeddings\n",
        "\n",
        "    def add_pos_embeddings(self, embeddings: torch.Tensor) -> torch.Tensor:\n",
        "        length = embeddings.size(0)\n",
        "        # ====\n",
        "        # your code\n",
        "        # add positional embeddings\n",
        "        # 1) define tensor with positions (just torch.arange) of size (length, 1)\n",
        "        # 2) add position embeddings to initial embeddings\n",
        "\n",
        "        # ====\n",
        "        pos_tensor = torch.arange(length).view(length, 1).to(embeddings.device)\n",
        "        embeddings = embeddings + self.position_embeddings(pos_tensor)\n",
        "\n",
        "        return embeddings\n",
        "\n",
        "    def forward(self, x: torch.Tensor) -> torch.Tensor:\n",
        "        x = x.long()\n",
        "        x = x.reshape(x.size(0), -1)  # (batch_size, length)\n",
        "        x = x.permute(1, 0)\n",
        "\n",
        "        embeddings = self.token_embeddings(x)  # (length, batch_size, emb_size)\n",
        "        embeddings = self.add_sos_token(embeddings)\n",
        "        embeddings = self.add_pos_embeddings(embeddings)\n",
        "\n",
        "        # ====\n",
        "        # your code\n",
        "        # 1) apply all decoder layers\n",
        "        # 2) apply final LayerNorm and Linear layer\n",
        "\n",
        "        # ====\n",
        "        for layer in self.layers:\n",
        "            embeddings = layer(embeddings)\n",
        "\n",
        "        logits = self.last_layers(embeddings)\n",
        "\n",
        "        return logits.permute(\n",
        "            1, 0, 2\n",
        "        )  # (length, batch_size, emb_size) -> (batch_size, length, emb_size)\n",
        "\n",
        "    def loss(self, x: torch.Tensor) -> dict:\n",
        "        logits = self(x)\n",
        "        loss = self.criterion(logits.reshape(-1), x.reshape(-1).float())\n",
        "        return {\"total_loss\": loss}\n",
        "\n",
        "    @torch.no_grad()\n",
        "    def sample(self, n_samples: int) -> np.ndarray:\n",
        "        # read sampling carefully\n",
        "        seq_len = self.input_shape[0] * self.input_shape[1]\n",
        "        samples = torch.zeros(n_samples, seq_len).long().to(self.device)\n",
        "        for i in range(seq_len):\n",
        "            logits = self(samples)\n",
        "            dist = torch.distributions.Bernoulli(logits=logits[:, i, 0])\n",
        "            samples[:, i] = dist.sample()\n",
        "        samples = samples.reshape(n_samples, 1, *self.input_shape)\n",
        "        return samples.cpu().numpy()\n",
        "\n",
        "\n",
        "def test_image_gpt() -> None:\n",
        "    image_gpt = ImageGPT(input_shape=(2, 2), embed_dim=12, num_heads=4, num_layers=2)\n",
        "    x = torch.LongTensor([[0, 1, 0, 0], [0, 1, 1, 1]])\n",
        "    assert image_gpt(x).shape == torch.Size([2, 4, 1])\n",
        "    assert image_gpt.loss(x)[\"total_loss\"].requires_grad == True\n",
        "    assert image_gpt.sample(1).shape == torch.Size([1, 1, 2, 2])\n",
        "    img = torch.randint(2, size=(1, 1, 2, 2))\n",
        "\n",
        "\n",
        "test_image_gpt()"
      ]
    },
    {
      "cell_type": "markdown",
      "metadata": {
        "id": "NptSgGtRXyca"
      },
      "source": [
        "### Model training\n",
        "\n",
        "Now we are ready to train our model."
      ]
    },
    {
      "cell_type": "code",
      "execution_count": null,
      "metadata": {
        "colab": {
          "background_save": true,
          "base_uri": "https://localhost:8080/",
          "height": 49,
          "referenced_widgets": [
            "84293ae79378430ebff8b2e76aea4281",
            "0cccac953b5e45a09d2025ed40c5ce61",
            "cb394cc31e8049c3b66a129b5de81867",
            "919b59acf44343c093e5ffefe7f24c79",
            "90b5ba503b0d4ac6a06d3346b32a360d",
            "d21946dda344460bb5e4ad6623b0a480",
            "eb12beb8f6784e73989c2da7d290f0db",
            "812bd33983124e53a6a6f8657db5258e",
            "b6f04e5f66eb4364880240fc52e50eb2",
            "9bcf18280f5e470a8c6a0fe09555a20a",
            "25d90bf75445411099ab6bfbe317ed25"
          ]
        },
        "id": "yXy7j5HoXJtE",
        "outputId": "af263a79-2132-481d-c04f-353b94d62d15"
      },
      "outputs": [
        {
          "data": {
            "application/vnd.jupyter.widget-view+json": {
              "model_id": "84293ae79378430ebff8b2e76aea4281",
              "version_major": 2,
              "version_minor": 0
            },
            "text/plain": [
              "  0%|          | 0/10 [00:00<?, ?it/s]"
            ]
          },
          "metadata": {},
          "output_type": "display_data"
        }
      ],
      "source": [
        "# ====\n",
        "# your code\n",
        "# choose these parameters\n",
        "EPOCHS = 10\n",
        "BATCH_SIZE = 512\n",
        "LR = 1e-3\n",
        "\n",
        "EMB_DIM = 16\n",
        "NUM_HEADS = 4\n",
        "NUM_LAYERS = 3\n",
        "# ====\n",
        "\n",
        "model = ImageGPT((28, 28), EMB_DIM, NUM_HEADS, NUM_LAYERS)\n",
        "\n",
        "train_loader = data.DataLoader(train_data, batch_size=BATCH_SIZE, shuffle=True)\n",
        "test_loader = data.DataLoader(test_data, batch_size=BATCH_SIZE)\n",
        "\n",
        "train_losses, test_losses = train_model(\n",
        "    model,\n",
        "    train_loader,\n",
        "    test_loader,\n",
        "    epochs=EPOCHS,\n",
        "    lr=LR,\n",
        "    use_tqdm=True,\n",
        "    use_cuda=USE_CUDA,\n",
        ")"
      ]
    },
    {
      "cell_type": "code",
      "execution_count": null,
      "metadata": {
        "colab": {
          "background_save": true
        },
        "id": "5Udvl-csXRIL",
        "outputId": "b87d47ed-0a62-4aa8-b550-10333e2d5ebd"
      },
      "outputs": [
        {
          "data": {
            "image/png": "[encoded data removed]",
            "text/plain": [
              "<Figure size 640x480 with 1 Axes>"
            ]
          },
          "metadata": {},
          "output_type": "display_data"
        }
      ],
      "source": [
        "plot_training_curves(train_losses, test_losses)"
      ]
    },
    {
      "cell_type": "markdown",
      "metadata": {
        "id": "Hz5t-srXk2-i"
      },
      "source": [
        "Let sample from our model. You probably get better samples than PixelCNN samples."
      ]
    },
    {
      "cell_type": "code",
      "execution_count": null,
      "metadata": {
        "colab": {
          "background_save": true
        },
        "id": "jUC3JBReYCau",
        "outputId": "3a9f62e4-5d94-4783-d7f3-0c3bc5ecd482"
      },
      "outputs": [
        {
          "data": {
            "image/png": "[encoded data removed]",
            "text/plain": [
              "<Figure size 600x600 with 1 Axes>"
            ]
          },
          "metadata": {},
          "output_type": "display_data"
        }
      ],
      "source": [
        "samples = model.sample(25)\n",
        "show_samples(samples, title=\"MNIST samples\", nrow=5)"
      ]
    }
  ],
  "metadata": {
    "accelerator": "GPU",
    "colab": {
      "gpuType": "T4",
      "provenance": []
    },
    "kernelspec": {
      "display_name": "Python 3",
      "name": "python3"
    },
    "language_info": {
      "codemirror_mode": {
        "name": "ipython",
        "version": 3
      },
      "file_extension": ".py",
      "mimetype": "text/x-python",
      "name": "python",
      "nbconvert_exporter": "python",
      "pygments_lexer": "ipython3",
      "version": "3.9.6"
    },
    "vscode": {
      "interpreter": {
        "hash": "784c2e2ba9cdfc1ce1e8c565791a35aa78e810f3990b00899de93c9f5ea5b088"
      }
    },
    "widgets": {
      "application/vnd.jupyter.widget-state+json": {
        "04a4928bbe344a8fa68b5d5bd5bd2d99": {
          "model_module": "@jupyter-widgets/base",
          "model_module_version": "1.2.0",
          "model_name": "LayoutModel",
          "state": {
            "_model_module": "@jupyter-widgets/base",
            "_model_module_version": "1.2.0",
            "_model_name": "LayoutModel",
            "_view_count": null,
            "_view_module": "@jupyter-widgets/base",
            "_view_module_version": "1.2.0",
            "_view_name": "LayoutView",
            "align_content": null,
            "align_items": null,
            "align_self": null,
            "border": null,
            "bottom": null,
            "display": null,
            "flex": null,
            "flex_flow": null,
            "grid_area": null,
            "grid_auto_columns": null,
            "grid_auto_flow": null,
            "grid_auto_rows": null,
            "grid_column": null,
            "grid_gap": null,
            "grid_row": null,
            "grid_template_areas": null,
            "grid_template_columns": null,
            "grid_template_rows": null,
            "height": null,
            "justify_content": null,
            "justify_items": null,
            "left": null,
            "margin": null,
            "max_height": null,
            "max_width": null,
            "min_height": null,
            "min_width": null,
            "object_fit": null,
            "object_position": null,
            "order": null,
            "overflow": null,
            "overflow_x": null,
            "overflow_y": null,
            "padding": null,
            "right": null,
            "top": null,
            "visibility": null,
            "width": null
          }
        },
        "0cccac953b5e45a09d2025ed40c5ce61": {
          "model_module": "@jupyter-widgets/controls",
          "model_module_version": "1.5.0",
          "model_name": "HTMLModel",
          "state": {
            "_dom_classes": [],
            "_model_module": "@jupyter-widgets/controls",
            "_model_module_version": "1.5.0",
            "_model_name": "HTMLModel",
            "_view_count": null,
            "_view_module": "@jupyter-widgets/controls",
            "_view_module_version": "1.5.0",
            "_view_name": "HTMLView",
            "description": "",
            "description_tooltip": null,
            "layout": "IPY_MODEL_d21946dda344460bb5e4ad6623b0a480",
            "placeholder": "​",
            "style": "IPY_MODEL_eb12beb8f6784e73989c2da7d290f0db",
            "value": "  0%"
          }
        },
        "0ceb544b4e5d488994e5765f710bfb8a": {
          "model_module": "@jupyter-widgets/controls",
          "model_module_version": "1.5.0",
          "model_name": "HBoxModel",
          "state": {
            "_dom_classes": [],
            "_model_module": "@jupyter-widgets/controls",
            "_model_module_version": "1.5.0",
            "_model_name": "HBoxModel",
            "_view_count": null,
            "_view_module": "@jupyter-widgets/controls",
            "_view_module_version": "1.5.0",
            "_view_name": "HBoxView",
            "box_style": "",
            "children": [
              "IPY_MODEL_67b0bd08fdd54598ad7e10d1016d95d4",
              "IPY_MODEL_9c40fbe47c02479eb089f482ec4bd009",
              "IPY_MODEL_d3858a8dcf3146378162ad19babe3a27"
            ],
            "layout": "IPY_MODEL_89b518abb6814dc999d1d16721745d5b"
          }
        },
        "0d9851d25ace45808ee73ad68e7265cd": {
          "model_module": "@jupyter-widgets/controls",
          "model_module_version": "1.5.0",
          "model_name": "DescriptionStyleModel",
          "state": {
            "_model_module": "@jupyter-widgets/controls",
            "_model_module_version": "1.5.0",
            "_model_name": "DescriptionStyleModel",
            "_view_count": null,
            "_view_module": "@jupyter-widgets/base",
            "_view_module_version": "1.2.0",
            "_view_name": "StyleView",
            "description_width": ""
          }
        },
        "1867b335f9b64d92a459c2d721e6c059": {
          "model_module": "@jupyter-widgets/controls",
          "model_module_version": "1.5.0",
          "model_name": "HTMLModel",
          "state": {
            "_dom_classes": [],
            "_model_module": "@jupyter-widgets/controls",
            "_model_module_version": "1.5.0",
            "_model_name": "HTMLModel",
            "_view_count": null,
            "_view_module": "@jupyter-widgets/controls",
            "_view_module_version": "1.5.0",
            "_view_name": "HTMLView",
            "description": "",
            "description_tooltip": null,
            "layout": "IPY_MODEL_b003029668be4031a0af95680edea8be",
            "placeholder": "​",
            "style": "IPY_MODEL_f5ab5f631cdd45318d3c098047a03c43",
            "value": " 10/10 [06:27&lt;00:00, 38.75s/it]"
          }
        },
        "25d90bf75445411099ab6bfbe317ed25": {
          "model_module": "@jupyter-widgets/controls",
          "model_module_version": "1.5.0",
          "model_name": "DescriptionStyleModel",
          "state": {
            "_model_module": "@jupyter-widgets/controls",
            "_model_module_version": "1.5.0",
            "_model_name": "DescriptionStyleModel",
            "_view_count": null,
            "_view_module": "@jupyter-widgets/base",
            "_view_module_version": "1.2.0",
            "_view_name": "StyleView",
            "description_width": ""
          }
        },
        "49f9dfca4ccc45e781a877e655fb4b8b": {
          "model_module": "@jupyter-widgets/controls",
          "model_module_version": "1.5.0",
          "model_name": "DescriptionStyleModel",
          "state": {
            "_model_module": "@jupyter-widgets/controls",
            "_model_module_version": "1.5.0",
            "_model_name": "DescriptionStyleModel",
            "_view_count": null,
            "_view_module": "@jupyter-widgets/base",
            "_view_module_version": "1.2.0",
            "_view_name": "StyleView",
            "description_width": ""
          }
        },
        "5f42e38386fa4abd9a11414ef5cb6821": {
          "model_module": "@jupyter-widgets/base",
          "model_module_version": "1.2.0",
          "model_name": "LayoutModel",
          "state": {
            "_model_module": "@jupyter-widgets/base",
            "_model_module_version": "1.2.0",
            "_model_name": "LayoutModel",
            "_view_count": null,
            "_view_module": "@jupyter-widgets/base",
            "_view_module_version": "1.2.0",
            "_view_name": "LayoutView",
            "align_content": null,
            "align_items": null,
            "align_self": null,
            "border": null,
            "bottom": null,
            "display": null,
            "flex": null,
            "flex_flow": null,
            "grid_area": null,
            "grid_auto_columns": null,
            "grid_auto_flow": null,
            "grid_auto_rows": null,
            "grid_column": null,
            "grid_gap": null,
            "grid_row": null,
            "grid_template_areas": null,
            "grid_template_columns": null,
            "grid_template_rows": null,
            "height": null,
            "justify_content": null,
            "justify_items": null,
            "left": null,
            "margin": null,
            "max_height": null,
            "max_width": null,
            "min_height": null,
            "min_width": null,
            "object_fit": null,
            "object_position": null,
            "order": null,
            "overflow": null,
            "overflow_x": null,
            "overflow_y": null,
            "padding": null,
            "right": null,
            "top": null,
            "visibility": null,
            "width": null
          }
        },
        "67b0bd08fdd54598ad7e10d1016d95d4": {
          "model_module": "@jupyter-widgets/controls",
          "model_module_version": "1.5.0",
          "model_name": "HTMLModel",
          "state": {
            "_dom_classes": [],
            "_model_module": "@jupyter-widgets/controls",
            "_model_module_version": "1.5.0",
            "_model_name": "HTMLModel",
            "_view_count": null,
            "_view_module": "@jupyter-widgets/controls",
            "_view_module_version": "1.5.0",
            "_view_name": "HTMLView",
            "description": "",
            "description_tooltip": null,
            "layout": "IPY_MODEL_04a4928bbe344a8fa68b5d5bd5bd2d99",
            "placeholder": "​",
            "style": "IPY_MODEL_0d9851d25ace45808ee73ad68e7265cd",
            "value": "100%"
          }
        },
        "709d043bcc4b421e81f1253e56229760": {
          "model_module": "@jupyter-widgets/controls",
          "model_module_version": "1.5.0",
          "model_name": "ProgressStyleModel",
          "state": {
            "_model_module": "@jupyter-widgets/controls",
            "_model_module_version": "1.5.0",
            "_model_name": "ProgressStyleModel",
            "_view_count": null,
            "_view_module": "@jupyter-widgets/base",
            "_view_module_version": "1.2.0",
            "_view_name": "StyleView",
            "bar_color": null,
            "description_width": ""
          }
        },
        "79c6f46c39de4b1a9545f81b4b29af3d": {
          "model_module": "@jupyter-widgets/controls",
          "model_module_version": "1.5.0",
          "model_name": "HTMLModel",
          "state": {
            "_dom_classes": [],
            "_model_module": "@jupyter-widgets/controls",
            "_model_module_version": "1.5.0",
            "_model_name": "HTMLModel",
            "_view_count": null,
            "_view_module": "@jupyter-widgets/controls",
            "_view_module_version": "1.5.0",
            "_view_name": "HTMLView",
            "description": "",
            "description_tooltip": null,
            "layout": "IPY_MODEL_a120f5b457474000a7cc365b8e82de29",
            "placeholder": "​",
            "style": "IPY_MODEL_823ac37697fb4b9eb409f2b85d3a7925",
            "value": "100%"
          }
        },
        "812bd33983124e53a6a6f8657db5258e": {
          "model_module": "@jupyter-widgets/base",
          "model_module_version": "1.2.0",
          "model_name": "LayoutModel",
          "state": {
            "_model_module": "@jupyter-widgets/base",
            "_model_module_version": "1.2.0",
            "_model_name": "LayoutModel",
            "_view_count": null,
            "_view_module": "@jupyter-widgets/base",
            "_view_module_version": "1.2.0",
            "_view_name": "LayoutView",
            "align_content": null,
            "align_items": null,
            "align_self": null,
            "border": null,
            "bottom": null,
            "display": null,
            "flex": null,
            "flex_flow": null,
            "grid_area": null,
            "grid_auto_columns": null,
            "grid_auto_flow": null,
            "grid_auto_rows": null,
            "grid_column": null,
            "grid_gap": null,
            "grid_row": null,
            "grid_template_areas": null,
            "grid_template_columns": null,
            "grid_template_rows": null,
            "height": null,
            "justify_content": null,
            "justify_items": null,
            "left": null,
            "margin": null,
            "max_height": null,
            "max_width": null,
            "min_height": null,
            "min_width": null,
            "object_fit": null,
            "object_position": null,
            "order": null,
            "overflow": null,
            "overflow_x": null,
            "overflow_y": null,
            "padding": null,
            "right": null,
            "top": null,
            "visibility": null,
            "width": null
          }
        },
        "823ac37697fb4b9eb409f2b85d3a7925": {
          "model_module": "@jupyter-widgets/controls",
          "model_module_version": "1.5.0",
          "model_name": "DescriptionStyleModel",
          "state": {
            "_model_module": "@jupyter-widgets/controls",
            "_model_module_version": "1.5.0",
            "_model_name": "DescriptionStyleModel",
            "_view_count": null,
            "_view_module": "@jupyter-widgets/base",
            "_view_module_version": "1.2.0",
            "_view_name": "StyleView",
            "description_width": ""
          }
        },
        "84293ae79378430ebff8b2e76aea4281": {
          "model_module": "@jupyter-widgets/controls",
          "model_module_version": "1.5.0",
          "model_name": "HBoxModel",
          "state": {
            "_dom_classes": [],
            "_model_module": "@jupyter-widgets/controls",
            "_model_module_version": "1.5.0",
            "_model_name": "HBoxModel",
            "_view_count": null,
            "_view_module": "@jupyter-widgets/controls",
            "_view_module_version": "1.5.0",
            "_view_name": "HBoxView",
            "box_style": "",
            "children": [
              "IPY_MODEL_0cccac953b5e45a09d2025ed40c5ce61",
              "IPY_MODEL_cb394cc31e8049c3b66a129b5de81867",
              "IPY_MODEL_919b59acf44343c093e5ffefe7f24c79"
            ],
            "layout": "IPY_MODEL_90b5ba503b0d4ac6a06d3346b32a360d"
          }
        },
        "872ce8654ee144d8abcea8eec5bce651": {
          "model_module": "@jupyter-widgets/base",
          "model_module_version": "1.2.0",
          "model_name": "LayoutModel",
          "state": {
            "_model_module": "@jupyter-widgets/base",
            "_model_module_version": "1.2.0",
            "_model_name": "LayoutModel",
            "_view_count": null,
            "_view_module": "@jupyter-widgets/base",
            "_view_module_version": "1.2.0",
            "_view_name": "LayoutView",
            "align_content": null,
            "align_items": null,
            "align_self": null,
            "border": null,
            "bottom": null,
            "display": null,
            "flex": null,
            "flex_flow": null,
            "grid_area": null,
            "grid_auto_columns": null,
            "grid_auto_flow": null,
            "grid_auto_rows": null,
            "grid_column": null,
            "grid_gap": null,
            "grid_row": null,
            "grid_template_areas": null,
            "grid_template_columns": null,
            "grid_template_rows": null,
            "height": null,
            "justify_content": null,
            "justify_items": null,
            "left": null,
            "margin": null,
            "max_height": null,
            "max_width": null,
            "min_height": null,
            "min_width": null,
            "object_fit": null,
            "object_position": null,
            "order": null,
            "overflow": null,
            "overflow_x": null,
            "overflow_y": null,
            "padding": null,
            "right": null,
            "top": null,
            "visibility": null,
            "width": null
          }
        },
        "89b518abb6814dc999d1d16721745d5b": {
          "model_module": "@jupyter-widgets/base",
          "model_module_version": "1.2.0",
          "model_name": "LayoutModel",
          "state": {
            "_model_module": "@jupyter-widgets/base",
            "_model_module_version": "1.2.0",
            "_model_name": "LayoutModel",
            "_view_count": null,
            "_view_module": "@jupyter-widgets/base",
            "_view_module_version": "1.2.0",
            "_view_name": "LayoutView",
            "align_content": null,
            "align_items": null,
            "align_self": null,
            "border": null,
            "bottom": null,
            "display": null,
            "flex": null,
            "flex_flow": null,
            "grid_area": null,
            "grid_auto_columns": null,
            "grid_auto_flow": null,
            "grid_auto_rows": null,
            "grid_column": null,
            "grid_gap": null,
            "grid_row": null,
            "grid_template_areas": null,
            "grid_template_columns": null,
            "grid_template_rows": null,
            "height": null,
            "justify_content": null,
            "justify_items": null,
            "left": null,
            "margin": null,
            "max_height": null,
            "max_width": null,
            "min_height": null,
            "min_width": null,
            "object_fit": null,
            "object_position": null,
            "order": null,
            "overflow": null,
            "overflow_x": null,
            "overflow_y": null,
            "padding": null,
            "right": null,
            "top": null,
            "visibility": null,
            "width": null
          }
        },
        "8ae40f33d791454197d0949681331312": {
          "model_module": "@jupyter-widgets/base",
          "model_module_version": "1.2.0",
          "model_name": "LayoutModel",
          "state": {
            "_model_module": "@jupyter-widgets/base",
            "_model_module_version": "1.2.0",
            "_model_name": "LayoutModel",
            "_view_count": null,
            "_view_module": "@jupyter-widgets/base",
            "_view_module_version": "1.2.0",
            "_view_name": "LayoutView",
            "align_content": null,
            "align_items": null,
            "align_self": null,
            "border": null,
            "bottom": null,
            "display": null,
            "flex": null,
            "flex_flow": null,
            "grid_area": null,
            "grid_auto_columns": null,
            "grid_auto_flow": null,
            "grid_auto_rows": null,
            "grid_column": null,
            "grid_gap": null,
            "grid_row": null,
            "grid_template_areas": null,
            "grid_template_columns": null,
            "grid_template_rows": null,
            "height": null,
            "justify_content": null,
            "justify_items": null,
            "left": null,
            "margin": null,
            "max_height": null,
            "max_width": null,
            "min_height": null,
            "min_width": null,
            "object_fit": null,
            "object_position": null,
            "order": null,
            "overflow": null,
            "overflow_x": null,
            "overflow_y": null,
            "padding": null,
            "right": null,
            "top": null,
            "visibility": null,
            "width": null
          }
        },
        "8d0ec82f1b144dc79e4ab6878fb369b8": {
          "model_module": "@jupyter-widgets/base",
          "model_module_version": "1.2.0",
          "model_name": "LayoutModel",
          "state": {
            "_model_module": "@jupyter-widgets/base",
            "_model_module_version": "1.2.0",
            "_model_name": "LayoutModel",
            "_view_count": null,
            "_view_module": "@jupyter-widgets/base",
            "_view_module_version": "1.2.0",
            "_view_name": "LayoutView",
            "align_content": null,
            "align_items": null,
            "align_self": null,
            "border": null,
            "bottom": null,
            "display": null,
            "flex": null,
            "flex_flow": null,
            "grid_area": null,
            "grid_auto_columns": null,
            "grid_auto_flow": null,
            "grid_auto_rows": null,
            "grid_column": null,
            "grid_gap": null,
            "grid_row": null,
            "grid_template_areas": null,
            "grid_template_columns": null,
            "grid_template_rows": null,
            "height": null,
            "justify_content": null,
            "justify_items": null,
            "left": null,
            "margin": null,
            "max_height": null,
            "max_width": null,
            "min_height": null,
            "min_width": null,
            "object_fit": null,
            "object_position": null,
            "order": null,
            "overflow": null,
            "overflow_x": null,
            "overflow_y": null,
            "padding": null,
            "right": null,
            "top": null,
            "visibility": null,
            "width": null
          }
        },
        "90b5ba503b0d4ac6a06d3346b32a360d": {
          "model_module": "@jupyter-widgets/base",
          "model_module_version": "1.2.0",
          "model_name": "LayoutModel",
          "state": {
            "_model_module": "@jupyter-widgets/base",
            "_model_module_version": "1.2.0",
            "_model_name": "LayoutModel",
            "_view_count": null,
            "_view_module": "@jupyter-widgets/base",
            "_view_module_version": "1.2.0",
            "_view_name": "LayoutView",
            "align_content": null,
            "align_items": null,
            "align_self": null,
            "border": null,
            "bottom": null,
            "display": null,
            "flex": null,
            "flex_flow": null,
            "grid_area": null,
            "grid_auto_columns": null,
            "grid_auto_flow": null,
            "grid_auto_rows": null,
            "grid_column": null,
            "grid_gap": null,
            "grid_row": null,
            "grid_template_areas": null,
            "grid_template_columns": null,
            "grid_template_rows": null,
            "height": null,
            "justify_content": null,
            "justify_items": null,
            "left": null,
            "margin": null,
            "max_height": null,
            "max_width": null,
            "min_height": null,
            "min_width": null,
            "object_fit": null,
            "object_position": null,
            "order": null,
            "overflow": null,
            "overflow_x": null,
            "overflow_y": null,
            "padding": null,
            "right": null,
            "top": null,
            "visibility": null,
            "width": null
          }
        },
        "919b59acf44343c093e5ffefe7f24c79": {
          "model_module": "@jupyter-widgets/controls",
          "model_module_version": "1.5.0",
          "model_name": "HTMLModel",
          "state": {
            "_dom_classes": [],
            "_model_module": "@jupyter-widgets/controls",
            "_model_module_version": "1.5.0",
            "_model_name": "HTMLModel",
            "_view_count": null,
            "_view_module": "@jupyter-widgets/controls",
            "_view_module_version": "1.5.0",
            "_view_name": "HTMLView",
            "description": "",
            "description_tooltip": null,
            "layout": "IPY_MODEL_9bcf18280f5e470a8c6a0fe09555a20a",
            "placeholder": "​",
            "style": "IPY_MODEL_25d90bf75445411099ab6bfbe317ed25",
            "value": " 0/10 [00:00&lt;?, ?it/s]"
          }
        },
        "9bcf18280f5e470a8c6a0fe09555a20a": {
          "model_module": "@jupyter-widgets/base",
          "model_module_version": "1.2.0",
          "model_name": "LayoutModel",
          "state": {
            "_model_module": "@jupyter-widgets/base",
            "_model_module_version": "1.2.0",
            "_model_name": "LayoutModel",
            "_view_count": null,
            "_view_module": "@jupyter-widgets/base",
            "_view_module_version": "1.2.0",
            "_view_name": "LayoutView",
            "align_content": null,
            "align_items": null,
            "align_self": null,
            "border": null,
            "bottom": null,
            "display": null,
            "flex": null,
            "flex_flow": null,
            "grid_area": null,
            "grid_auto_columns": null,
            "grid_auto_flow": null,
            "grid_auto_rows": null,
            "grid_column": null,
            "grid_gap": null,
            "grid_row": null,
            "grid_template_areas": null,
            "grid_template_columns": null,
            "grid_template_rows": null,
            "height": null,
            "justify_content": null,
            "justify_items": null,
            "left": null,
            "margin": null,
            "max_height": null,
            "max_width": null,
            "min_height": null,
            "min_width": null,
            "object_fit": null,
            "object_position": null,
            "order": null,
            "overflow": null,
            "overflow_x": null,
            "overflow_y": null,
            "padding": null,
            "right": null,
            "top": null,
            "visibility": null,
            "width": null
          }
        },
        "9c40fbe47c02479eb089f482ec4bd009": {
          "model_module": "@jupyter-widgets/controls",
          "model_module_version": "1.5.0",
          "model_name": "FloatProgressModel",
          "state": {
            "_dom_classes": [],
            "_model_module": "@jupyter-widgets/controls",
            "_model_module_version": "1.5.0",
            "_model_name": "FloatProgressModel",
            "_view_count": null,
            "_view_module": "@jupyter-widgets/controls",
            "_view_module_version": "1.5.0",
            "_view_name": "ProgressView",
            "bar_style": "success",
            "description": "",
            "description_tooltip": null,
            "layout": "IPY_MODEL_8ae40f33d791454197d0949681331312",
            "max": 10,
            "min": 0,
            "orientation": "horizontal",
            "style": "IPY_MODEL_709d043bcc4b421e81f1253e56229760",
            "value": 10
          }
        },
        "9fafef7b6a89491398422acf8e969e03": {
          "model_module": "@jupyter-widgets/controls",
          "model_module_version": "1.5.0",
          "model_name": "HBoxModel",
          "state": {
            "_dom_classes": [],
            "_model_module": "@jupyter-widgets/controls",
            "_model_module_version": "1.5.0",
            "_model_name": "HBoxModel",
            "_view_count": null,
            "_view_module": "@jupyter-widgets/controls",
            "_view_module_version": "1.5.0",
            "_view_name": "HBoxView",
            "box_style": "",
            "children": [
              "IPY_MODEL_79c6f46c39de4b1a9545f81b4b29af3d",
              "IPY_MODEL_bab1ce9bc37a4854a6556e7d5b8a80f7",
              "IPY_MODEL_1867b335f9b64d92a459c2d721e6c059"
            ],
            "layout": "IPY_MODEL_8d0ec82f1b144dc79e4ab6878fb369b8"
          }
        },
        "a120f5b457474000a7cc365b8e82de29": {
          "model_module": "@jupyter-widgets/base",
          "model_module_version": "1.2.0",
          "model_name": "LayoutModel",
          "state": {
            "_model_module": "@jupyter-widgets/base",
            "_model_module_version": "1.2.0",
            "_model_name": "LayoutModel",
            "_view_count": null,
            "_view_module": "@jupyter-widgets/base",
            "_view_module_version": "1.2.0",
            "_view_name": "LayoutView",
            "align_content": null,
            "align_items": null,
            "align_self": null,
            "border": null,
            "bottom": null,
            "display": null,
            "flex": null,
            "flex_flow": null,
            "grid_area": null,
            "grid_auto_columns": null,
            "grid_auto_flow": null,
            "grid_auto_rows": null,
            "grid_column": null,
            "grid_gap": null,
            "grid_row": null,
            "grid_template_areas": null,
            "grid_template_columns": null,
            "grid_template_rows": null,
            "height": null,
            "justify_content": null,
            "justify_items": null,
            "left": null,
            "margin": null,
            "max_height": null,
            "max_width": null,
            "min_height": null,
            "min_width": null,
            "object_fit": null,
            "object_position": null,
            "order": null,
            "overflow": null,
            "overflow_x": null,
            "overflow_y": null,
            "padding": null,
            "right": null,
            "top": null,
            "visibility": null,
            "width": null
          }
        },
        "b003029668be4031a0af95680edea8be": {
          "model_module": "@jupyter-widgets/base",
          "model_module_version": "1.2.0",
          "model_name": "LayoutModel",
          "state": {
            "_model_module": "@jupyter-widgets/base",
            "_model_module_version": "1.2.0",
            "_model_name": "LayoutModel",
            "_view_count": null,
            "_view_module": "@jupyter-widgets/base",
            "_view_module_version": "1.2.0",
            "_view_name": "LayoutView",
            "align_content": null,
            "align_items": null,
            "align_self": null,
            "border": null,
            "bottom": null,
            "display": null,
            "flex": null,
            "flex_flow": null,
            "grid_area": null,
            "grid_auto_columns": null,
            "grid_auto_flow": null,
            "grid_auto_rows": null,
            "grid_column": null,
            "grid_gap": null,
            "grid_row": null,
            "grid_template_areas": null,
            "grid_template_columns": null,
            "grid_template_rows": null,
            "height": null,
            "justify_content": null,
            "justify_items": null,
            "left": null,
            "margin": null,
            "max_height": null,
            "max_width": null,
            "min_height": null,
            "min_width": null,
            "object_fit": null,
            "object_position": null,
            "order": null,
            "overflow": null,
            "overflow_x": null,
            "overflow_y": null,
            "padding": null,
            "right": null,
            "top": null,
            "visibility": null,
            "width": null
          }
        },
        "b6f04e5f66eb4364880240fc52e50eb2": {
          "model_module": "@jupyter-widgets/controls",
          "model_module_version": "1.5.0",
          "model_name": "ProgressStyleModel",
          "state": {
            "_model_module": "@jupyter-widgets/controls",
            "_model_module_version": "1.5.0",
            "_model_name": "ProgressStyleModel",
            "_view_count": null,
            "_view_module": "@jupyter-widgets/base",
            "_view_module_version": "1.2.0",
            "_view_name": "StyleView",
            "bar_color": null,
            "description_width": ""
          }
        },
        "bab1ce9bc37a4854a6556e7d5b8a80f7": {
          "model_module": "@jupyter-widgets/controls",
          "model_module_version": "1.5.0",
          "model_name": "FloatProgressModel",
          "state": {
            "_dom_classes": [],
            "_model_module": "@jupyter-widgets/controls",
            "_model_module_version": "1.5.0",
            "_model_name": "FloatProgressModel",
            "_view_count": null,
            "_view_module": "@jupyter-widgets/controls",
            "_view_module_version": "1.5.0",
            "_view_name": "ProgressView",
            "bar_style": "success",
            "description": "",
            "description_tooltip": null,
            "layout": "IPY_MODEL_5f42e38386fa4abd9a11414ef5cb6821",
            "max": 10,
            "min": 0,
            "orientation": "horizontal",
            "style": "IPY_MODEL_edba30472d5e4e64ab83194303df62e7",
            "value": 10
          }
        },
        "cb394cc31e8049c3b66a129b5de81867": {
          "model_module": "@jupyter-widgets/controls",
          "model_module_version": "1.5.0",
          "model_name": "FloatProgressModel",
          "state": {
            "_dom_classes": [],
            "_model_module": "@jupyter-widgets/controls",
            "_model_module_version": "1.5.0",
            "_model_name": "FloatProgressModel",
            "_view_count": null,
            "_view_module": "@jupyter-widgets/controls",
            "_view_module_version": "1.5.0",
            "_view_name": "ProgressView",
            "bar_style": "",
            "description": "",
            "description_tooltip": null,
            "layout": "IPY_MODEL_812bd33983124e53a6a6f8657db5258e",
            "max": 10,
            "min": 0,
            "orientation": "horizontal",
            "style": "IPY_MODEL_b6f04e5f66eb4364880240fc52e50eb2",
            "value": 0
          }
        },
        "d21946dda344460bb5e4ad6623b0a480": {
          "model_module": "@jupyter-widgets/base",
          "model_module_version": "1.2.0",
          "model_name": "LayoutModel",
          "state": {
            "_model_module": "@jupyter-widgets/base",
            "_model_module_version": "1.2.0",
            "_model_name": "LayoutModel",
            "_view_count": null,
            "_view_module": "@jupyter-widgets/base",
            "_view_module_version": "1.2.0",
            "_view_name": "LayoutView",
            "align_content": null,
            "align_items": null,
            "align_self": null,
            "border": null,
            "bottom": null,
            "display": null,
            "flex": null,
            "flex_flow": null,
            "grid_area": null,
            "grid_auto_columns": null,
            "grid_auto_flow": null,
            "grid_auto_rows": null,
            "grid_column": null,
            "grid_gap": null,
            "grid_row": null,
            "grid_template_areas": null,
            "grid_template_columns": null,
            "grid_template_rows": null,
            "height": null,
            "justify_content": null,
            "justify_items": null,
            "left": null,
            "margin": null,
            "max_height": null,
            "max_width": null,
            "min_height": null,
            "min_width": null,
            "object_fit": null,
            "object_position": null,
            "order": null,
            "overflow": null,
            "overflow_x": null,
            "overflow_y": null,
            "padding": null,
            "right": null,
            "top": null,
            "visibility": null,
            "width": null
          }
        },
        "d3858a8dcf3146378162ad19babe3a27": {
          "model_module": "@jupyter-widgets/controls",
          "model_module_version": "1.5.0",
          "model_name": "HTMLModel",
          "state": {
            "_dom_classes": [],
            "_model_module": "@jupyter-widgets/controls",
            "_model_module_version": "1.5.0",
            "_model_name": "HTMLModel",
            "_view_count": null,
            "_view_module": "@jupyter-widgets/controls",
            "_view_module_version": "1.5.0",
            "_view_name": "HTMLView",
            "description": "",
            "description_tooltip": null,
            "layout": "IPY_MODEL_872ce8654ee144d8abcea8eec5bce651",
            "placeholder": "​",
            "style": "IPY_MODEL_49f9dfca4ccc45e781a877e655fb4b8b",
            "value": " 10/10 [06:27&lt;00:00, 38.78s/it]"
          }
        },
        "eb12beb8f6784e73989c2da7d290f0db": {
          "model_module": "@jupyter-widgets/controls",
          "model_module_version": "1.5.0",
          "model_name": "DescriptionStyleModel",
          "state": {
            "_model_module": "@jupyter-widgets/controls",
            "_model_module_version": "1.5.0",
            "_model_name": "DescriptionStyleModel",
            "_view_count": null,
            "_view_module": "@jupyter-widgets/base",
            "_view_module_version": "1.2.0",
            "_view_name": "StyleView",
            "description_width": ""
          }
        },
        "edba30472d5e4e64ab83194303df62e7": {
          "model_module": "@jupyter-widgets/controls",
          "model_module_version": "1.5.0",
          "model_name": "ProgressStyleModel",
          "state": {
            "_model_module": "@jupyter-widgets/controls",
            "_model_module_version": "1.5.0",
            "_model_name": "ProgressStyleModel",
            "_view_count": null,
            "_view_module": "@jupyter-widgets/base",
            "_view_module_version": "1.2.0",
            "_view_name": "StyleView",
            "bar_color": null,
            "description_width": ""
          }
        },
        "f5ab5f631cdd45318d3c098047a03c43": {
          "model_module": "@jupyter-widgets/controls",
          "model_module_version": "1.5.0",
          "model_name": "DescriptionStyleModel",
          "state": {
            "_model_module": "@jupyter-widgets/controls",
            "_model_module_version": "1.5.0",
            "_model_name": "DescriptionStyleModel",
            "_view_count": null,
            "_view_module": "@jupyter-widgets/base",
            "_view_module_version": "1.2.0",
            "_view_name": "StyleView",
            "description_width": ""
          }
        }
      }
    }
  },
  "nbformat": 4,
  "nbformat_minor": 0
}